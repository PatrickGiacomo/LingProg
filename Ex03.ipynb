{
 "cells": [
  {
   "cell_type": "markdown",
   "metadata": {},
   "source": [
    "1. Faça um Programa que peça dois números e imprima o maior deles."
   ]
  },
  {
   "cell_type": "code",
   "execution_count": null,
   "metadata": {},
   "outputs": [],
   "source": [
    "num01 = int(input(\"Digite o primeiro número\"))\n",
    "num02 = int(input(\"Digite o segundo número\"))\n",
    "\n",
    "if num01 > num02 :\n",
    "    print(\"O maior valor digitado é {}\".format(num01))\n",
    "elif num01 == num02:  \n",
    "    print(\"Os valores digitados iguais\")  \n",
    "else: print(\"O maior valor digitado é {}\".format(num02))"
   ]
  },
  {
   "cell_type": "markdown",
   "metadata": {},
   "source": [
    "2. Faça um Programa que verifque se uma letra digitada é vogal ou consoante. "
   ]
  },
  {
   "cell_type": "code",
   "execution_count": null,
   "metadata": {},
   "outputs": [],
   "source": [
    "letra = input(\"Digite uma letra \")\n",
    "\n",
    "if letra == \"a\" or letra == \"e\" or letra == \"i\" or letra == \"u\" :\n",
    "    print(\"A letra digitada é uma vogal\")\n",
    "else: print(\"A letra digitada é uma consoante\")"
   ]
  },
  {
   "cell_type": "markdown",
   "metadata": {},
   "source": [
    "3. Faça um programa para a leitura de duas notas parciais de um aluno. O programa deve calcular a média alcançada por aluno e apresentar: \n",
    "\n",
    "- A mensagem \"Aprovado\", se a média alcançada for maior ou igual a sete; \n",
    "- A mensagem \"Reprovado\", se a média for menor do que sete; \n",
    "- A mensagem \"Aprovado com Distinção\", se a média for igual a dez."
   ]
  },
  {
   "cell_type": "code",
   "execution_count": 16,
   "metadata": {},
   "outputs": [
    {
     "name": "stdout",
     "output_type": "stream",
     "text": [
      "Digite a primeira nota 3\n",
      "Digite a segunda nota 10\n",
      "Reprovado\n",
      "Nota alcançada é 6.5\n"
     ]
    }
   ],
   "source": [
    "nota01 = float(input(\"Digite a primeira nota \"))\n",
    "nota02 = float(input(\"Digite a segunda nota \"))\n",
    "\n",
    "media = ( nota01 + nota02 ) / 2\n",
    "\n",
    "if media >= 7 and media < 10 :\n",
    "    print(\"Aprovado\")\n",
    "    print(\"Nota alcançada é {}\".format(media))\n",
    "elif media < 7:  \n",
    "    print(\"Reprovado\")\n",
    "    print(\"Nota alcançada é {}\".format(media))\n",
    "else:\n",
    "    print(\"Aprovado com distinção \\nNota alcançada é {}\".format(media))      "
   ]
  },
  {
   "cell_type": "markdown",
   "metadata": {},
   "source": [
    "4. Faça um Programa que leia três números e mostre-os em ordem decrescente."
   ]
  },
  {
   "cell_type": "code",
   "execution_count": 10,
   "metadata": {},
   "outputs": [
    {
     "name": "stdout",
     "output_type": "stream",
     "text": [
      "Digite o primeiro número3\n",
      "Digite o segundo número2\n",
      "Digite o terceiro número1\n",
      "[3, 2, 1]\n"
     ]
    }
   ],
   "source": [
    "num01 = int(input(\"Digite o primeiro número \"))\n",
    "num02 = int(input(\"Digite o segundo número \"))\n",
    "num03 = int(input(\"Digite o terceiro número \"))\n",
    "\n",
    "lista = [num01, num02, num03]\n",
    "lista.sort()\n",
    "lista.reverse()\n",
    "\n",
    "print(lista)"
   ]
  },
  {
   "cell_type": "markdown",
   "metadata": {},
   "source": [
    "5. As Organizações Tabajara resolveram dar um aumento de salário aos seus colaboradores e lhe contrataram para desenvolver o programa que calculará os reajustes. \n",
    "\n",
    "Faça um programa que recebe o salário de um colaborador e o reajuste segundo o seguinte critério, baseado no salário atual: \n",
    "\n",
    "- salários até R$ 280,00 (incluindo) : aumento de 20% \n",
    "- salários entre R$ 280,00 e R$ 700,00 : aumento de 15% \n",
    "- salários entre R$ 700,00 e R$ 1500,00 : aumento de 10% \n",
    "- salários de R$ 1500,00 em diante : aumento de 5% \n",
    "\n",
    "Após o aumento ser realizado, informe na tela: \n",
    "- o salário antes do reajuste; \n",
    "- o percentual de aumento aplicado; \n",
    "- o valor do aumento; \n",
    "- o novo salário, após o aumento. "
   ]
  },
  {
   "cell_type": "code",
   "execution_count": 1,
   "metadata": {},
   "outputs": [
    {
     "name": "stdout",
     "output_type": "stream",
     "text": [
      "Digite o seu salario atual 2345\n",
      "O seu salario atual é R$ 2345.0\n",
      "O percentual a ser aumentado é 5%\n",
      "O valor a ser aumentado é R$    117.25\n",
      "O seu novo salário é R$ 2462.25\n"
     ]
    }
   ],
   "source": [
    "salario = float(input(\"Digite o seu salario atual \"))\n",
    "\n",
    "if salario <= 280:\n",
    "    aumento = salario * 0.20\n",
    "    novo_salario = salario + aumento\n",
    "    percentual = \"20%\"\n",
    "elif salario > 280 and salario <= 700:\n",
    "    aumento = salario * 0.15\n",
    "    novo_salario = salario + aumento\n",
    "    percentual = \"15%\"\n",
    "elif salario > 700 and salario <= 1500:\n",
    "    aumento = salario * 0.10\n",
    "    novo_salario = salario + aumento\n",
    "    percentual = \"10%\"\n",
    "else: \n",
    "    aumento = salario * 0.05\n",
    "    novo_salario = salario + aumento\n",
    "    percentual = \"5%\"\n",
    "    \n",
    "print(\"O seu salario atual é R$ {}\".format(salario))\n",
    "print(\"O percentual a ser aumentado é {}\".format(percentual))\n",
    "print(\"O valor a ser aumentado é R$%10.2f\" %aumento)\n",
    "print(\"O seu novo salário é R$ {}\".format(novo_salario))\n"
   ]
  },
  {
   "cell_type": "markdown",
   "metadata": {},
   "source": [
    "6. Faça um Programa que leia um número e exiba o dia correspondente da semana. (1-Domingo, 2- Segunda, etc.), se digitar outro valor deve aparecer valor inválido. "
   ]
  },
  {
   "cell_type": "code",
   "execution_count": 13,
   "metadata": {},
   "outputs": [
    {
     "name": "stdout",
     "output_type": "stream",
     "text": [
      "Digite o dia 234875\n",
      "Valor digitado é invalido\n"
     ]
    }
   ],
   "source": [
    "dia = int(input(\"Digite o dia \"))\n",
    "\n",
    "if dia == 1:\n",
    "    print(\"Domingo\")\n",
    "elif dia == 2:\n",
    "    print(\"Segunda-Feira\")\n",
    "elif dia == 3:\n",
    "    print(\"Terça-Feira\")\n",
    "elif dia == 4:\n",
    "    print(\"Quarta-Feira\")\n",
    "elif dia == 5:\n",
    "    print(\"Quinta-Feira\")\n",
    "elif dia == 6:\n",
    "    print(\"Sexta-Feira\")\n",
    "elif dia == 7:\n",
    "    print(\"Sabado\")\n",
    "else:\n",
    "    print(\"Valor digitado é invalido\")"
   ]
  },
  {
   "cell_type": "markdown",
   "metadata": {},
   "source": [
    "7. Faça um programa que lê as duas notas parciais obtidas por um aluno numa disciplina ao longo de um semestre, e calcule a sua média. \n",
    "\n",
    "A atribuição de conceitos obedece à tabela abaixo:  \n",
    "\n",
    "Média de Aproveitamento  Conceito  \n",
    "Entre 9.0 e 10.0        A  \n",
    "Entre 7.5 e 9.0         B  \n",
    "Entre 6.0 e 7.5         C  \n",
    "Entre 4.0 e 6.0         D  \n",
    "Entre 4.0 e zero        E \n",
    "\n",
    "O algoritmo deve mostrar na tela as notas, a média, o conceito correspondente e a mensagem “APROVADO” se o conceito for A, B ou C ou “REPROVADO” se o conceito for D ou E. "
   ]
  },
  {
   "cell_type": "code",
   "execution_count": null,
   "metadata": {},
   "outputs": [],
   "source": [
    "nota01 = float(input(\"Digite a primeira nota \"))\n",
    "nota02 = float(input(\"Digite a segunda nota \"))\n",
    "\n",
    "media = ( nota01 + nota02 ) / 2\n",
    "\n",
    "if media >= 9:\n",
    "    conceito = \"A\"\n",
    "    status = \"Aprovado\"\n",
    "elif media < 9 and media >= 7.5:\n",
    "    conceito = \"B\"\n",
    "    status = \"Aprovado\"\n",
    "elif media < 7.5 and media >= 6:\n",
    "    conceito = \"C\"\n",
    "    status = \"Aprovado\"\n",
    "elif media < 6 and media >= 4:\n",
    "    conceito = \"D\"\n",
    "    status = \"Reprovado\"\n",
    "else:\n",
    "    conceito = \"E\"\n",
    "    status = \"Reprovado\"\n",
    "\n",
    "print(\"As notas obtidas foram: %s  e  %s\" %(nota01, nota02))\n",
    "print(\"A sua media é  {}\".format(media))\n",
    "print(\"O conceito de obtido é {}\".format(conceito))\n",
    "print(\"Você foi {}\".format(status))"
   ]
  },
  {
   "cell_type": "markdown",
   "metadata": {},
   "source": [
    "8. Faça um Programa que peça os 3 lados de um triângulo. O programa deverá informar se os valores podem ser um triângulo. Indique, caso os lados formem um triângulo, se o mesmo é: equilátero, isósceles ou escaleno. \n",
    "\n",
    "Dicas: - Três lados formam um triângulo quando a soma de quaisquer dois lados for maior que o terceiro; \n",
    "\n",
    "- Triângulo Equilátero: três lados iguais; \n",
    "- Triângulo Isósceles: quaisquer dois lados iguais; \n",
    "- Triângulo Escaleno: três lados diferentes; "
   ]
  },
  {
   "cell_type": "code",
   "execution_count": null,
   "metadata": {},
   "outputs": [],
   "source": [
    "Resposta 8"
   ]
  },
  {
   "cell_type": "markdown",
   "metadata": {},
   "source": [
    "9. Faça um programa que calcule as raízes de uma equação do segundo grau, na forma ax2 + bx + c. O programa deverá pedir os valores de a, b e c e fazer as consistências, informando ao usuário nas seguintes situações:\n",
    "\n",
    "- Se o usuário informar o valor de A igual a zero, a equação não é do segundo grau e o programa não deve fazer pedir os demais valores, sendo encerrado; \n",
    "- Se o delta calculado for negativo, a equação não possui raizes reais. Informe ao usuário e encerre o programa; \n",
    "- Se o delta calculado for igual a zero a equação possui apenas uma raiz real; informe-a ao usuário; \n",
    "- Se o delta for positivo, a equação possui duas raiz reais; informeas ao usuário; "
   ]
  },
  {
   "cell_type": "code",
   "execution_count": null,
   "metadata": {},
   "outputs": [],
   "source": [
    "import math\n",
    "\n",
    "a = int(input(\"Digite o valor de A: \"))\n",
    "if a == 0:\n",
    "    print(\"A = 0, não é uma equação de 2º grau\")      \n",
    "else:\n",
    "    b = int(input(\"Digite o valor de B: \"))\n",
    "    c = int(input(\"Digite o valor de C: \"))\n",
    "    delta = (b**2) - (4 * a * c)\n",
    "    if delta < 0:\n",
    "        print(\"Delta possui valor negativo, a equação não possui raiz real\")\n",
    "    elif delta == 0:\n",
    "        x = (-b)/(2 * a)\n",
    "        print(\"Delta é igual a zero, a equação possui uma raiz real: {}\".format(x))\n",
    "    else:\n",
    "        raizDelta = math.sqrt(delta)\n",
    "        x1 = (-(b) + raizDelta)/(2 * a)\n",
    "        x2 = (-(b) - raizDelta)/(2 * a)\n",
    "        print(\"As raizes encontradas foram: X1 = {} e X2 = {}\".format(x1, x2))"
   ]
  },
  {
   "cell_type": "markdown",
   "metadata": {},
   "source": [
    "10. Faça um Programa para um caixa eletrônico. O programa deverá perguntar ao usuário a valor do saque e depois informar quantas notas de cada valor serão fornecidas. As notas disponíveis serão as de 1, 5, 10, 50 e 100 reais. \n",
    "\n",
    "O valor mínimo é de 10 reais e o máximo de 600 reais. O programa não deve se preocupar com a quantidade de notas existentes na máquina. \n",
    "\n",
    "- Exemplo 1: Para sacar a quantia de 256 reais, o programa fornece duas notas de 100, uma nota de 50, uma nota de 5 e uma nota de 1; \n",
    "- Exemplo 2: Para sacar a quantia de 399 reais, o programa fornece três notas de 100, uma nota de 50, quatro notas de 10, uma nota de 5 e quatro notas de 1. "
   ]
  },
  {
   "cell_type": "code",
   "execution_count": null,
   "metadata": {},
   "outputs": [],
   "source": [
    "Resposta 10"
   ]
  },
  {
   "cell_type": "markdown",
   "metadata": {},
   "source": [
    "11. Faça um programa que faça 5 perguntas para uma pessoa sobre um crime. As perguntas são: \n",
    "\n",
    "\"Telefonou para a vítima?\" \n",
    "\"Esteve no local do crime?\" \n",
    "\"Mora perto da vítima?\" \n",
    "\"Devia para a vítima?\" \n",
    "\"Já trabalhou com a vítima?\" \n",
    "\n",
    "O programa deve no fnal emitir uma classifcação sobre a participação da pessoa no crime. Se a pessoa responder positivamente a 2 questões ela deve ser classifcada como \"Suspeita\", entre 3 e 4 como \"Cúmplice\" e 5 como \"Assassino\". Caso contrário, ele será classifcado como \"Inocente\". "
   ]
  },
  {
   "cell_type": "code",
   "execution_count": 2,
   "metadata": {},
   "outputs": [
    {
     "name": "stdout",
     "output_type": "stream",
     "text": [
      "Telefonou para a vítima?sim\n",
      "Esteve no local do crime? sim\n",
      "Mora perto da vítima? ds\n",
      "Devia para a vítima? lk\n",
      "Já trabalhou com a vítima? sim\n",
      "Você respondeu SIM para 1 perguntas\n",
      "Sua participação nesse crime é classificada como Inocente\n"
     ]
    }
   ],
   "source": [
    "pergunta01 = input(\"Telefonou para a vítima?\")\n",
    "pergunta02 = input(\"Esteve no local do crime? \")\n",
    "pergunta03 = input(\"Mora perto da vítima? \")\n",
    "pergunta04 = input(\"Devia para a vítima? \")\n",
    "pergunta05 = input(\"Já trabalhou com a vítima? \")\n",
    "contador = 0\n",
    "\n",
    "if pergunta01 == \"sim\" :\n",
    "    contador = contador + 1\n",
    "else:\n",
    "    contador = contador\n",
    "    \n",
    "if pergunta02 == \"sim\" :\n",
    "    contador = contador + 1\n",
    "else:\n",
    "    contador = contador\n",
    "\n",
    "if pergunta03 == \"sim\" :\n",
    "    contador = contador + 1\n",
    "else:\n",
    "    contador = contador\n",
    "\n",
    "if pergunta04 == \"sim\":\n",
    "    contador = contador + 1\n",
    "else:\n",
    "    contador = contador\n",
    "\n",
    "if pergunta05 == \"sim\" :\n",
    "    contador = contador + 1\n",
    "else:\n",
    "    contador = contador\n",
    "    \n",
    "    \n",
    "if contador == 1 or contador == 0:\n",
    "    status = \"Inocente\"\n",
    "elif contador == 2:\n",
    "    status = \"Suspeita\"\n",
    "elif contador == 3 or contador == 4:\n",
    "    status = \"Cúmplice\"\n",
    "else:\n",
    "    status = \"Assassino\"\n",
    "\n",
    "print(\"Você respondeu SIM para {} perguntas\".format(contador))\n",
    "print(\"Sua participação nesse crime é classificada como {}\".format(status))"
   ]
  },
  {
   "cell_type": "markdown",
   "metadata": {},
   "source": [
    "12. Uma fruteira está vendendo frutas com a seguinte tabela de preços:                      \n",
    "\n",
    "                   Até 5 Kg               Acima de 5 Kg \n",
    "Morango         R$ 2,50 por Kg          R$ 2,20 por \n",
    "Kg Maçã         R$ 1,80 por Kg          R$ 1,50 por Kg \n",
    "\n",
    "Se o cliente comprar mais de 8 Kg em frutas ou o valor total da compra ultrapassar R$ 25,00, receberá ainda um desconto de 10% sobre este total. Escreva um algoritmo para ler a quantidade (em Kg) de morangos e a quantidade (em Kg) de maças adquiridas e escreva o valor a ser pago pelo cliente. "
   ]
  },
  {
   "cell_type": "code",
   "execution_count": 15,
   "metadata": {},
   "outputs": [
    {
     "name": "stdout",
     "output_type": "stream",
     "text": [
      "Digite a quantidade de maças que foi comprada 3\n",
      "Digite a quantidade de morangos que foi comprada 0\n",
      "Você comprou 3.0 Kg de maça  e 0.0 Kg de morango \n",
      "O valor a pagar é R$ 5.4, você recebeu um desconto de R$ 0\n"
     ]
    }
   ],
   "source": [
    "kg_maça = float(input(\"Digite a quantidade de maças que foi comprada \"))\n",
    "kg_morango = float(input(\"Digite a quantidade de morangos que foi comprada \"))\n",
    "\n",
    "kg_total = kg_maça + kg_morango\n",
    "\n",
    "if kg_maça <= 5 :\n",
    "    preço_maça = kg_maça * 1.8\n",
    "else:\n",
    "    preço_maça = kg_maça * 1.5\n",
    "    \n",
    "if kg_morango <= 5 :\n",
    "    preço_morango = kg_morango * 2.5\n",
    "else:\n",
    "    preço_morango = kg_morango * 2.2\n",
    "\n",
    "preço_total = preço_maça + preço_morango\n",
    "\n",
    "if kg_maça + kg_morango > 8 or preço_maça + preço_morango > 25:\n",
    "    desconto = preço_total * 0.10\n",
    "    preço_total = preço_total - desconto\n",
    "else:\n",
    "    desconto = 0\n",
    "\n",
    "print(\"Você comprou {} Kg de maça  e {} Kg de morango \".format(kg_maça, kg_morango))\n",
    "\n",
    "print(\"O valor a pagar é R$ {}, você recebeu um desconto de R$ {}\".format(preço_total, desconto))"
   ]
  },
  {
   "cell_type": "markdown",
   "metadata": {},
   "source": [
    "13. A Faça um programa que peça uma nota, entre zero e dez. Mostre uma mensagem caso o valor seja inválido e continue pedindo até que o usuário informe um valor válido. "
   ]
  },
  {
   "cell_type": "code",
   "execution_count": null,
   "metadata": {},
   "outputs": [],
   "source": [
    "nota = int(input(\"Digite uma nota entre 0 e 10: \"))\n",
    "\n",
    "while nota > 10 or nota < 0:\n",
    "    print(\"A nota digitada é invalida\")\n",
    "    nota = int(input(\"Por favor digite uma nova nota entre 0 e 10: \"))\n",
    "\n",
    "print (\"A nota digitada é {}\".format(nota))"
   ]
  },
  {
   "cell_type": "markdown",
   "metadata": {},
   "source": [
    "13. B  Faça um programa que leia e valide as seguintes informações: Nome: maior que 3 caracteres; Idade: entre 0 e 150; Salário: maior que zero; Sexo: 'f' ou 'm'; Estado Civil: 's', 'c', 'v', 'd';"
   ]
  },
  {
   "cell_type": "code",
   "execution_count": 4,
   "metadata": {},
   "outputs": [
    {
     "name": "stdout",
     "output_type": "stream",
     "text": [
      "Digite o seu nome Patrick\n",
      "Digite a sua idade 23\n",
      "Digite o seu salario 4000\n",
      "O nome digitado foi: Patrick, \n",
      "A idade digitada foi: 23 \n",
      "E o salário digitdo foi: 4000.0\n"
     ]
    }
   ],
   "source": [
    "estado_civil = \"scvd\"\n",
    "i = 0\n",
    "nome = input(\"Digite o seu nome \")\n",
    "while len(nome) <= 3:\n",
    "    nome = input(\"Digite o seu nome novamente, ele deve conter mais de 3 caracteres \")\n",
    "\n",
    "idade = int(input(\"Digite a sua idade \"))\n",
    "while idade < 0 or idade > 150:\n",
    "    idade = int(input(\"Digite a sua idade novamente, ela deve estar entre 0 e 150 \"))\n",
    "\n",
    "salario = float(input(\"Digite o seu salario \"))\n",
    "while salario <= 0:\n",
    "    salario = float(input(\"Digite o seu salario novamente, ele deve ser maior que 0 \"))\n",
    "\n",
    "print(\"O nome digitado foi: {}, \\nA idade digitada foi: {} \\nE o salário digitdo foi: {}\".format(nome, idade, salario))"
   ]
  },
  {
   "cell_type": "code",
   "execution_count": null,
   "metadata": {},
   "outputs": [],
   "source": [
    "14. Faça um programa que leia 5 números e informe o maior número. "
   ]
  },
  {
   "cell_type": "code",
   "execution_count": 6,
   "metadata": {},
   "outputs": [
    {
     "name": "stdout",
     "output_type": "stream",
     "text": [
      "Insera 1º elemento da lista 56\n",
      "Insera 2º elemento da lista 5\n",
      "Insera 3º elemento da lista 4\n",
      "Insera 4º elemento da lista 3\n",
      "Insera 5º elemento da lista 4\n",
      "O maior valor digitado foi: 56\n"
     ]
    }
   ],
   "source": [
    "lista = []\n",
    "i = 1;\n",
    "\n",
    "while i <= 5:\n",
    "    numero = int(input(\"Insera %sº elemento da lista \" %(i)))\n",
    "    lista.append(numero)\n",
    "    i += 1\n",
    "\n",
    "maior = max(lista)\n",
    "    \n",
    "print(\"O maior valor digitado foi: {}\".format(maior))"
   ]
  },
  {
   "cell_type": "markdown",
   "metadata": {},
   "source": [
    "15. Faça um programa que leia 5 números e informe a soma e a média dos números."
   ]
  },
  {
   "cell_type": "code",
   "execution_count": 1,
   "metadata": {},
   "outputs": [
    {
     "name": "stdout",
     "output_type": "stream",
     "text": [
      "Insera o 1ª elemento da lista 1\n",
      "Insera o 2ª elemento da lista 2\n",
      "Insera o 3ª elemento da lista 3\n",
      "Insera o 4ª elemento da lista 1\n",
      "Insera o 5ª elemento da lista 2\n",
      "A soma dos elementos digitados é 9\n",
      "A media dos elementos digitados é 1\n"
     ]
    }
   ],
   "source": [
    "lista = []\n",
    "i = 1\n",
    "j = 1\n",
    "soma = 0;\n",
    "\n",
    "while i <= 5:\n",
    "    numero = int(input(\"Insera o %sª elemento da lista \" %(i)))\n",
    "    lista.append(numero)\n",
    "    i += 1\n",
    "    \n",
    "soma = sum(lista)\n",
    "media = soma / 5\n",
    "\n",
    "print(\"A soma dos elementos digitados é {}\".format(soma))\n",
    "print(\"A media dos elementos digitados é {}\".format(media))"
   ]
  },
  {
   "cell_type": "markdown",
   "metadata": {},
   "source": [
    "16. Faça um programa que imprima na tela apenas os números ímpares entre 1 e 50. "
   ]
  },
  {
   "cell_type": "code",
   "execution_count": 2,
   "metadata": {},
   "outputs": [
    {
     "name": "stdout",
     "output_type": "stream",
     "text": [
      "1\n",
      "3\n",
      "5\n",
      "7\n",
      "9\n",
      "11\n",
      "13\n",
      "15\n",
      "17\n",
      "19\n",
      "21\n",
      "23\n",
      "25\n",
      "27\n",
      "29\n",
      "31\n",
      "33\n",
      "35\n",
      "37\n",
      "39\n",
      "41\n",
      "43\n",
      "45\n",
      "47\n",
      "49\n"
     ]
    }
   ],
   "source": [
    "i = 1\n",
    "\n",
    "while i <= 50:\n",
    "    if i % 2 == 1:\n",
    "        print(i)\n",
    "    i += 1\n"
   ]
  },
  {
   "cell_type": "markdown",
   "metadata": {},
   "source": [
    "17. Desenvolva um gerador de tabuada, capaz de gerar a tabuada de qualquer número inteiro entre 1 a 10. O usuário deve informar de qual numero ele deseja ver a tabuada. A saída deve ser conforme o exemplo abaixo: Tabuada de 5: 5 X 1 = 5 5 X 2 = 10 ... 5 X 10 = 50 "
   ]
  },
  {
   "cell_type": "code",
   "execution_count": 5,
   "metadata": {},
   "outputs": [
    {
     "name": "stdout",
     "output_type": "stream",
     "text": [
      "Digite um numero de 1 a 10: 0\n",
      "Apenas valores de 1 a 10\n",
      "Por favor digite um novo valor entre 0 e 10: -1\n",
      "Apenas valores de 1 a 10\n",
      "Por favor digite um novo valor entre 0 e 10: 10\n",
      "10 X 0 = 0\n",
      "10 X 1 = 10\n",
      "10 X 2 = 20\n",
      "10 X 3 = 30\n",
      "10 X 4 = 40\n",
      "10 X 5 = 50\n",
      "10 X 6 = 60\n",
      "10 X 7 = 70\n",
      "10 X 8 = 80\n",
      "10 X 9 = 90\n",
      "10 X 10 = 100\n"
     ]
    }
   ],
   "source": [
    "n = int(input(\"Digite um numero de 1 a 10: \"))\n",
    "cont = 0\n",
    "\n",
    "while n <= 0 or n > 10 :\n",
    "    print(\"Apenas valores de 1 a 10\")\n",
    "    n = int(input(\"Por favor digite um novo valor entre 0 e 10: \"))\n",
    "\n",
    "while cont <= 10:\n",
    "    tab = n * cont\n",
    "    print (\"{} X {} = {}\".format(n, cont, tab))\n",
    "    cont = cont + 1"
   ]
  },
  {
   "cell_type": "markdown",
   "metadata": {},
   "source": [
    "18. A série de Fibonacci é formada pela seqüência 1,1,2,3,5,8,13,21,34,55,... Faça um programa capaz de gerar a série até o n−ésimo termo. "
   ]
  },
  {
   "cell_type": "code",
   "execution_count": 6,
   "metadata": {},
   "outputs": [
    {
     "name": "stdout",
     "output_type": "stream",
     "text": [
      "Digite a quantidade de sequencias que deseja exibir: 16\n",
      "1\n",
      "1\n",
      "2\n",
      "3\n",
      "5\n",
      "8\n",
      "13\n",
      "21\n",
      "34\n",
      "55\n",
      "89\n",
      "144\n",
      "233\n",
      "377\n",
      "610\n",
      "987\n",
      "1597\n"
     ]
    }
   ],
   "source": [
    "n = int(input(\"Digite a quantidade de sequencias que deseja exibir: \"))\n",
    "\n",
    "f1 = 1\n",
    "f2 = 0\n",
    "i = 0\n",
    "aux = 0\n",
    "\n",
    "while i <= n:\n",
    "    print(f1)\n",
    "    aux = f1\n",
    "    f1 = f1 + f2\n",
    "    f2 = aux\n",
    "    i = i + 1"
   ]
  },
  {
   "cell_type": "code",
   "execution_count": null,
   "metadata": {},
   "outputs": [],
   "source": [
    "19. Faça um programa que calcule o fatorial de um número inteiro fornecido pelo usuário. Ex.: 5!=5.4.3.2.1=120 "
   ]
  },
  {
   "cell_type": "code",
   "execution_count": 28,
   "metadata": {},
   "outputs": [
    {
     "name": "stdout",
     "output_type": "stream",
     "text": [
      "Digite o número que deseja obter o seu fatorial 6\n",
      "O fatorial do número 6 é 720\n"
     ]
    }
   ],
   "source": [
    "fat = 1 \n",
    "num = int(input(\"Digite o número que deseja obter o seu fatorial \")) \n",
    "n = num\n",
    "\n",
    "while num > 0: \n",
    "    fat = fat * num \n",
    "    num = num - 1 \n",
    "\n",
    "print (\"O fatorial do número {} é {}\".format(n, fat))"
   ]
  },
  {
   "cell_type": "markdown",
   "metadata": {},
   "source": [
    "20. O Sr. Manoel Joaquim possui uma grande loja de artigos de R$ 1,99, com cerca de 10 caixas. Para agilizar o cálculo de quanto cada cliente deve pagar ele desenvolveu um tabela que contém o número de itens que o cliente comprou e ao lado o valor da conta. Desta forma a atendente do caixa precisa apenas contar quantos itens o cliente está levando e olhar na tabela de preços. Você foi contratado para desenvolver o programa que monta esta tabela de preços, que conterá os preços de 1 até 50 produtos, conforme o exemplo abaixo: Lojas Quase Dois - Tabela de preços 1 - R$ 1.99 2 - R$ 3.98 ... 50 - R$ 99.50"
   ]
  },
  {
   "cell_type": "code",
   "execution_count": null,
   "metadata": {},
   "outputs": [],
   "source": [
    "quant = int(input(\"Digite a quantidade de produtos comprados: \"))\n",
    "preço = 1.99\n",
    "i = 1\n",
    "\n",
    "while quant <= 0 or quant > 50 :\n",
    "    print(\"Apenas valores de 1 a 50\")\n",
    "    quant = int(input(\"Por favor digite um novo valor entre 0 e 50: \"))\n",
    "\n",
    "while i <= quant :\n",
    "    valor = preço * i\n",
    "    print (\"{} - R${}\".format(i, valor))\n",
    "    i = i + 1"
   ]
  },
  {
   "cell_type": "markdown",
   "metadata": {},
   "source": [
    "21. O Sr. Manoel Joaquim acaba de adquirir uma panifcadora e pretende implantar a metodologia da tabelinha, que já é um sucesso na sua loja de 1,99. Você foi contratado para desenvolver o programa que monta a tabela de preços de pães, de 1 até 50 pães, a partir do preço do pão informado pelo usuário, conforme o exemplo abaixo: Preço do pão: R$ 0.18 Panificadora Pão de Ontem - Tabela de preços 1 - R$ 0.18 2 - R$ 0.36 ... 50 - R$ 9.00 "
   ]
  },
  {
   "cell_type": "code",
   "execution_count": 2,
   "metadata": {},
   "outputs": [
    {
     "name": "stdout",
     "output_type": "stream",
     "text": [
      "Digite a quantidade de pâes comprados: 5\n",
      "1 - R$0.18\n",
      "2 - R$0.36\n",
      "3 - R$0.54\n",
      "4 - R$0.72\n",
      "5 - R$0.8999999999999999\n"
     ]
    }
   ],
   "source": [
    "quant = int(input(\"Digite a quantidade de pâes comprados: \"))\n",
    "preço = 0.18\n",
    "i = 1\n",
    "\n",
    "while quant <= 0 or quant > 50 :\n",
    "    print(\"Apenas valores de 1 a 50\")\n",
    "    quant = int(input(\"Por favor digite um novo valor entre 0 e 50: \"))\n",
    "\n",
    "while i <= quant :\n",
    "    valor = preço * i\n",
    "    print (\"{} - R${}\".format(i, valor))\n",
    "    i = i + 1"
   ]
  },
  {
   "cell_type": "markdown",
   "metadata": {},
   "source": [
    "22. O Sr. Manoel Joaquim expandiu seus negócios para além dos negócios de 1,99 e agora possui uma loja de conveniências. Faça um programa que implemente uma caixa registradora rudimentar. O programa deverá receber um número desconhecido de valores referentes aos preços das mercadorias. Um valor zero deve ser informado pelo operador para indicar o fnal da compra. O programa deve então mostrar o total da compra e perguntar o valor em dinheiro que o cliente forneceu, para então calcular e mostrar o valor do troco. Após esta operação, o programa deverá voltar ao ponto inicial, para registrar a próxima compra. A saída deve ser conforme o exemplo abaixo: Lojas Tabajara Produto 1: R$ 2.20 Produto 2: R$ 5.80 Produto 3: R$ 0 Total: R$ 9.00 Dinheiro: R$ 20.00 Troco: R$ 11.00 ... "
   ]
  },
  {
   "cell_type": "code",
   "execution_count": null,
   "metadata": {},
   "outputs": [],
   "source": [
    "valor = float(input(\"Digite o valor do 1º produto: \"))\n",
    "i = 1\n",
    "soma = 0\n",
    "\n",
    "if valor > 0:\n",
    "    while valor != 0:\n",
    "        i = i + 1\n",
    "        valor = float(input(\"Digite o valor do {}º produto:\".format(i)))\n",
    "        soma = soma + valor\n",
    "        \n",
    "print(\"Compra finalizada\")  \n",
    "print(\"Total a pagar R${}\".format(soma))\n",
    "dinheiro = float(input(\"Dinheiro: R$ \"))\n",
    "\n",
    "while  dinheiro < soma:\n",
    "    print(\"O valor do pagamento deve ser maior ou igual o valor total das compras realizadas \")\n",
    "    dinheiro = float(input(\"Digite o valor do pagamento novamente R$\" ))\n",
    "\n",
    "troco = dinheiro - soma\n",
    "print(\"Troco: R${}\".format(troco))"
   ]
  },
  {
   "cell_type": "markdown",
   "metadata": {},
   "source": [
    "23. Foi feita uma estatística em cinco cidades brasileiras para coletar dados sobre acidentes de trânsito. Foram obtidos os seguintes dados: \n",
    "\n",
    "* Código da cidade; \n",
    "* Número de veículos de passeio (em 1999); \n",
    "* Número de acidentes de trânsito com vítimas (em 1999). \n",
    "\n",
    "Deseja-se saber: \n",
    "\n",
    "* Qual o maior e menor índice de acidentes de transito e a que cidade pertence; \n",
    "* Qual a média de veículos nas cinco cidades juntas; \n",
    "* Qual a média de acidentes de trânsito nas cidades com menos de 2.000 veículos de passeio. "
   ]
  },
  {
   "cell_type": "code",
   "execution_count": null,
   "metadata": {},
   "outputs": [],
   "source": [
    "nome_cidade = []\n",
    "codigo_cidade = []\n",
    "num_veiculos = []\n",
    "num_acidentes = []\n",
    "soma = 0\n",
    "i = 1;\n",
    "j = 1;\n",
    "\n",
    "while i <= 5:\n",
    "    nome = input(\"Insera o nome da %sª cidade \" %(i))\n",
    "    nome_cidade.append(nome)\n",
    "    codigo = int(input(\"Insera o codigo da %sª cidade \" %(i)))\n",
    "    codigo_cidade.append(codigo)\n",
    "    veiculos = int(input(\"Insera o número de veículos de passeio da %sª cidade \" %(i)))\n",
    "    num_veiculos.append(veiculos)\n",
    "    acidentes = int(input(\"Insera o numero de acidentes com vitimad da %sª cidade \" %(i)))\n",
    "    num_acidentes.append(acidentes)\n",
    "    i += 1\n",
    "        \n",
    "print(\"o maior índice de acidentes de transito é %s \" %(max(num_acidentes)))                  \n",
    "print(\"o menor índice de acidentes de transito é %s \" %(min(num_acidentes)))\n",
    "print(\"A média de veículos nas cinco cidades juntas é %s \" %(sum(num_veiculos) / len(num_veiculos)))\n",
    "print(\"A média de acidentes de trânsito nas cidades com menos de 2.000 veículos é\")"
   ]
  },
  {
   "cell_type": "markdown",
   "metadata": {},
   "source": [
    "24. Faça um programa que receba o valor de uma dívida e mostre uma tabela com os seguintes dados: valor da dívida, valor dos juros, quantidade de parcelas e valor da parcela. Os juros e a quantidade de parcelas seguem a tabela abaixo: Quantidade de Parcelas  % de Juros sobre o valor inicial da dívida\n",
    "\n",
    "1       0\n",
    "3       10\n",
    "6       15\n",
    "9       20\n",
    "12      25\n",
    "\n",
    "Exemplo de saída do programa: Valor da Dívida Valor dos Juros Quantidade de Parcelas  Valor da Parcela \n",
    "R$ 1.000,00     0               1                       R$  1.000,00 \n",
    "R$ 1.100,00     100             3                       R$    366,00\n",
    "R$ 1.150,00     150             6                       R$    191,67 "
   ]
  },
  {
   "cell_type": "code",
   "execution_count": null,
   "metadata": {},
   "outputs": [],
   "source": [
    "vlr = float(input(\"Digite o valor: \"))\n",
    "\n",
    "juros1 = (vlr * 0)\n",
    "vlrJuros1 = vlr + juros1\n",
    "vlrParc1 = vlrJuros1/1\n",
    "\n",
    "juros3 = (vlr * 0.1)\n",
    "vlrJuros3 = vlr + juros3\n",
    "vlrParc3 = vlrJuros3/3\n",
    "\n",
    "juros6 = (vlr * 0.15)\n",
    "vlrJuros6 = vlr + juros6\n",
    "vlrParc6 = vlrJuros6/6\n",
    "\n",
    "juros9 = (vlr * 0.2)\n",
    "vlrJuros9 = vlr + juros9\n",
    "vlrParc9 = vlrJuros9/9\n",
    "\n",
    "juros12 = (vlr * 0.25)\n",
    "vlrJuros12 = vlr + juros12\n",
    "vlrParc12 = vlrJuros12/12\n",
    "\n",
    "print(\"Valor da Dívida | Valor dos Juros | Quantidade de Parcelas | Valor da Parcela\")\n",
    "print(\"R$\", vlrJuros1, \"| R$\", juros1,\"   | 1   | R$\", vlrParc1)\n",
    "print(\"R$\", vlrJuros3, \"| R$\", juros3,\" | 3   | R$\", vlrParc3)\n",
    "print(\"R$\", vlrJuros6, \"| R$\", juros6,\" | 6   | R$\", vlrParc6)\n",
    "print(\"R$\", vlrJuros9, \"| R$\", juros9,\" | 9   | R$\", vlrParc9)\n",
    "print(\"R$\", vlrJuros12, \"| R$\", juros12,\" | 12  | R$\", vlrParc12)\n"
   ]
  },
  {
   "cell_type": "markdown",
   "metadata": {},
   "source": [
    "25. Faça um programa que mostre os n termos da Série a seguir:  S = 1/1 + 2/3 + 3/5 + 4/7 + 5/9 + ... + n/m. Imprima no fnal a soma da série.\n"
   ]
  }
 ],
 "metadata": {
  "kernelspec": {
   "display_name": "Python 3",
   "language": "python",
   "name": "python3"
  },
  "language_info": {
   "codemirror_mode": {
    "name": "ipython",
    "version": 3
   },
   "file_extension": ".py",
   "mimetype": "text/x-python",
   "name": "python",
   "nbconvert_exporter": "python",
   "pygments_lexer": "ipython3",
   "version": "3.6.5"
  }
 },
 "nbformat": 4,
 "nbformat_minor": 2
}
