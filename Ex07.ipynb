{
 "cells": [
  {
   "cell_type": "code",
   "execution_count": null,
   "metadata": {},
   "outputs": [],
   "source": [
    "1 Defna a função somannat que recebe como argumento um número natural  n  e devolve a soma de todos os números naturais até  n.\n",
    "Ex: somannat(5) = 15"
   ]
  },
  {
   "cell_type": "code",
   "execution_count": 7,
   "metadata": {},
   "outputs": [
    {
     "name": "stdout",
     "output_type": "stream",
     "text": [
      "136\n",
      "66\n",
      "4465\n"
     ]
    }
   ],
   "source": [
    "soma_nat = lambda n: 1 if n == 1 else n + soma_nat(n-1)\n",
    "\n",
    "print(soma_nat(16))\n",
    "print(soma_nat(11))\n",
    "print(soma_nat(94))"
   ]
  },
  {
   "cell_type": "code",
   "execution_count": null,
   "metadata": {},
   "outputs": [],
   "source": [
    "2 Defna a função div que recebe como argumentos dois números naturais  m  e  n  e devolve o resultado da divisão inteira de  m  por  n. Neste exercício você não pode recorrer às operações aritmétcas de multplicação, divisão e resto da divisão inteira.\n",
    "Ex: div(7,2) = 3"
   ]
  },
  {
   "cell_type": "code",
   "execution_count": 8,
   "metadata": {},
   "outputs": [
    {
     "name": "stdout",
     "output_type": "stream",
     "text": [
      "5\n",
      "6\n"
     ]
    }
   ],
   "source": [
    "div = lambda dividendo, divisor: 0 if dividendo < divisor else 1 + div(dividendo-divisor, divisor)\n",
    "\n",
    "print(div(10,2))\n",
    "print(div(20,3))"
   ]
  },
  {
   "cell_type": "code",
   "execution_count": null,
   "metadata": {},
   "outputs": [],
   "source": [
    "3 Defna a função primnalg que recebe como argumento um número natural e devolve o primeiro algarismo (o mais signifcatvo) na representação decimal de  n.\n",
    "Ex: primnalg(5649) = 5 Ex: primnalg(7) = 7"
   ]
  },
  {
   "cell_type": "code",
   "execution_count": 12,
   "metadata": {},
   "outputs": [
    {
     "name": "stdout",
     "output_type": "stream",
     "text": [
      "5\n",
      "7\n",
      "1\n",
      "4\n"
     ]
    }
   ],
   "source": [
    "prim_alg = lambda n: n if n < 10 else prim_alg(n//10)\n",
    "\n",
    "print(prim_alg(5649))\n",
    "print(prim_alg(7))\n",
    "print(prim_alg(1611))\n",
    "print(prim_alg(4991))"
   ]
  },
  {
   "cell_type": "code",
   "execution_count": null,
   "metadata": {},
   "outputs": [],
   "source": [
    "4 Defna a função prodnlista que recebe como argumento uma lista de inteiros e devolve o produto dos seus elementos.\n",
    "Ex: prodnlista([1,2,3,4,5,6]) = 720"
   ]
  },
  {
   "cell_type": "code",
   "execution_count": 14,
   "metadata": {},
   "outputs": [
    {
     "name": "stdout",
     "output_type": "stream",
     "text": [
      "720\n",
      "314336\n"
     ]
    }
   ],
   "source": [
    "prod_lista = lambda l: (lambda n: n)(l[0]) if len(l) == 1 else l[0]*prod_lista(l[1:])\n",
    "\n",
    "print(prod_lista([1,2,3,4,5,6]))\n",
    "print(prod_lista([16,11,19,94]))\n"
   ]
  },
  {
   "cell_type": "code",
   "execution_count": null,
   "metadata": {},
   "outputs": [],
   "source": [
    "5 Defna a função contemnpar  que recebe como argumento uma lista de números inteiros  o e devolve True se o contém um número par e False em caso contrário.\n",
    "Ex: contemnpar ([2,3,1,2,3,4]) = True Ex: contemnpar ([1,3,5,7]) = False"
   ]
  },
  {
   "cell_type": "code",
   "execution_count": 18,
   "metadata": {},
   "outputs": [
    {
     "name": "stdout",
     "output_type": "stream",
     "text": [
      "False\n",
      "True\n",
      "False\n",
      "True\n"
     ]
    }
   ],
   "source": [
    "contem_parQ = lambda w: False if len(w) == 0 or (w[len(w) - 1] % 2 != 0 and not contem_parQ(w[:-1])) else True\n",
    "\n",
    "print(contem_parQ([1,3,5,7]))\n",
    "print(contem_parQ([16,11,1994]))\n",
    "print(contem_parQ([11,13,15]))\n",
    "print(contem_parQ([27,7,2012]))\n"
   ]
  },
  {
   "cell_type": "code",
   "execution_count": null,
   "metadata": {},
   "outputs": [],
   "source": [
    "6 Defna a função todosnimpares  que recebe como argumento uma lista de números inteiros o e devolve True se  o contém apenas números ímpares e False em caso contrário.\n",
    "Ex: todosnimpares ([1,3,5,7]) = True Ex: todosnimpares ([]) = True Ex: todosnimpares ([1,2,3,4,5]) = False"
   ]
  },
  {
   "cell_type": "code",
   "execution_count": 20,
   "metadata": {},
   "outputs": [
    {
     "name": "stdout",
     "output_type": "stream",
     "text": [
      "True\n",
      "False\n",
      "True\n",
      "True\n"
     ]
    }
   ],
   "source": [
    "todos_imparesQ = lambda w: True if len(w) == 0 or (w[len(w) - 1] % 2 != 0 and todos_imparesQ(w[:-1])) else False\n",
    "\n",
    "print(todos_imparesQ([1,3,5,7]))\n",
    "print(todos_imparesQ([16,1994,30,]))\n",
    "print(todos_imparesQ([27,7,15,13]))\n",
    "print(todos_imparesQ([11,13,15,19]))"
   ]
  },
  {
   "cell_type": "code",
   "execution_count": null,
   "metadata": {},
   "outputs": [],
   "source": [
    "7 Defna a função pertence  que recebe como argumentos uma lista de números inteiros  o  e um número inteiro  n  e devolve True se  n  ocorre em  o  e False em caso contrário.\n",
    "Ex: pertence ([1,2,3],1) = True Ex: pertence ([1,2,3],2) = True Ex: pertence ([1,2,3],3) = True Ex: pertence ([1,2,3],4) = False"
   ]
  },
  {
   "cell_type": "code",
   "execution_count": 21,
   "metadata": {},
   "outputs": [
    {
     "name": "stdout",
     "output_type": "stream",
     "text": [
      "True\n",
      "False\n",
      "True\n",
      "False\n",
      "True\n",
      "False\n"
     ]
    }
   ],
   "source": [
    "pertence = lambda list,n: True if n in list else False\n",
    "\n",
    "print(pertence([16,11,94],16))\n",
    "print(pertence([16,11,94],19))\n",
    "print(pertence([27,7,12],12))\n",
    "print(pertence([27,7,12],20))\n",
    "print(pertence([30,11,68],11))\n",
    "print(pertence([30,11,68],67))\n"
   ]
  },
  {
   "cell_type": "code",
   "execution_count": null,
   "metadata": {},
   "outputs": [],
   "source": [
    "8 Defna a função junta que recebe como argumentos duas listas de números inteiros  o1  e  o2  e devolve a concatenação de  o1  com  o2 .\n",
    "Ex: junta([1,2,3],[4,5,6]) = [1, 2, 3, 4, 5, 6] Ex: junta([],[4,5,6]) = [4, 5, 6] Ex: junta([1,2,3],[]) = [1, 2, 3]"
   ]
  },
  {
   "cell_type": "code",
   "execution_count": 22,
   "metadata": {},
   "outputs": [
    {
     "name": "stdout",
     "output_type": "stream",
     "text": [
      "[16, 11, 1994, 1994, 11, 16]\n",
      "[27, 7, 2012, 2012, 7, 27]\n",
      "[30, 11, 1968, 1968, 11, 30]\n"
     ]
    }
   ],
   "source": [
    "junta = lambda x, y: x + y if len(x) > 0 and len(y) > 0 else []\n",
    "\n",
    "print(junta([16,11,1994], [1994,11,16]))\n",
    "print(junta([27,7,2012],[2012,7,27]))\n",
    "print(junta([30,11, 1968],[1968,11,30]))"
   ]
  },
  {
   "cell_type": "code",
   "execution_count": null,
   "metadata": {},
   "outputs": [],
   "source": [
    "9 Defna a função temPrimo  que recebe como argumento uma lista de listas de números inteiros  o  e devolve True se alguma das sublistas  o  tem um número primo e False em caso contrário.\n",
    "Ex: temPrimo ([[4,4,4,4],[5,4,6,7],[2,4,3]]) = True Ex: temPrimo ([[4,4,4,4],[4,4,4],[],[4]]) = False"
   ]
  },
  {
   "cell_type": "code",
   "execution_count": 23,
   "metadata": {},
   "outputs": [
    {
     "name": "stdout",
     "output_type": "stream",
     "text": [
      "True\n",
      "False\n"
     ]
    }
   ],
   "source": [
    "ePrimo = lambda p,i=2: False if p==1 else True if p==2 or i>=p else False if p%i==0 and p!=i else ePrimo(p,i+1)\n",
    "\n",
    "list = lambda w: False if len(w)==0 else ePrimo(w[0]) if len(w)==1 else ePrimo(w[0]) or list(w[1:len(w)])\n",
    "temPrimo = lambda w: False if len(w)==0 else list(w[0]) if len(w)==1 else list(w[0]) or temPrimo(w[1:len(w)])\n",
    "\n",
    "print(temPrimo([[4,4,4,4],[5,4,6,7],[2,4,3]]))\n",
    "print(temPrimo([[4,4,4,4],[4,4,4],[],[4]]))"
   ]
  }
 ],
 "metadata": {
  "kernelspec": {
   "display_name": "Python 3",
   "language": "python",
   "name": "python3"
  },
  "language_info": {
   "codemirror_mode": {
    "name": "ipython",
    "version": 3
   },
   "file_extension": ".py",
   "mimetype": "text/x-python",
   "name": "python",
   "nbconvert_exporter": "python",
   "pygments_lexer": "ipython3",
   "version": "3.7.0"
  }
 },
 "nbformat": 4,
 "nbformat_minor": 2
}
