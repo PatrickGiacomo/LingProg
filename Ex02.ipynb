{
 "cells": [
  {
   "cell_type": "markdown",
   "metadata": {},
   "source": [
    "1 Crie um programa que recebe uma lista de números e\n",
    "- retorne o maior elemento\n",
    "- retorne a soma dos elementos\n",
    "- retorne o número de ocorrências do primeiro elemento da lista\n",
    "- retorne a média dos elementos\n",
    "- retorne o valor mais próximo da média dos elementos\n",
    "- retorne a soma dos elementos com valor negativo\n",
    "- retorne a quantidade de vizinhos iguais"
   ]
  },
  {
   "cell_type": "code",
   "execution_count": 1,
   "metadata": {},
   "outputs": [
    {
     "name": "stdout",
     "output_type": "stream",
     "text": [
      "Insera um numero 1 da lista 5\n",
      "Insera um numero 2 da lista 6\n",
      "Insera um numero 3 da lista 7\n",
      "Insera um numero 4 da lista 8\n",
      "Insera um numero 5 da lista 9\n",
      "O maior elemento da lista é 9 \n",
      "A soma dos elementos da lista é 35 \n",
      "O número de ocorrências do primeiro elemento da lista é 1 \n",
      "A média dos elementos da lista é 7.0 \n",
      "A soma dos elementos com valor negativo é 0 \n"
     ]
    }
   ],
   "source": [
    "lista = []\n",
    "i = 1;\n",
    "\n",
    "while i <= 5:\n",
    "    numero = int(input(\"Insera um numero %s da lista \" %(i)))\n",
    "    lista.append(numero)\n",
    "    i += 1\n",
    "\n",
    "print(\"O maior elemento da lista é %s \" %(max(lista)))\n",
    "print(\"A soma dos elementos da lista é %s \" %(sum(lista)))\n",
    "print(\"O número de ocorrências do primeiro elemento da lista é %s \" %(lista.count(lista[0])))\n",
    "print(\"A média dos elementos da lista é %s \" %(sum(lista) / len(lista)))\n",
    "print(\"A soma dos elementos com valor negativo é %s \" %(sum(i for i in lista if i < 0)))"
   ]
  },
  {
   "cell_type": "markdown",
   "metadata": {},
   "source": [
    "2 Faça um programa que receba duas listas e retorne True se são iguais ou False caso contrario. Duas listas são iguais se possuem os mesmos valores e na mesma ordem."
   ]
  },
  {
   "cell_type": "code",
   "execution_count": 5,
   "metadata": {},
   "outputs": [
    {
     "name": "stdout",
     "output_type": "stream",
     "text": [
      "As listas são iguais:  True\n",
      "As listas são iguais:  False\n",
      "As listas são iguais:  False\n"
     ]
    }
   ],
   "source": [
    "def lista(list1, list2):\n",
    "    if len(list1) == len(list2):\n",
    "        for i in range(0, len(list1)):\n",
    "            if list1[i] != list2[i]:\n",
    "                return False\n",
    "        return True\n",
    "    return False\n",
    "\n",
    "list1, list2 = [15, 30, 60], [15, 30, 60]\n",
    "print(\"são iguais: \", lista(list1, list2))\n",
    "list1, list2 = [15, 1, 30], [15, 30, 1]\n",
    "print(\"são iguais: \", lista(list1, list2))\n",
    "list1, list2 = [2, 6], [10, 8, 7]\n",
    "print(\"são iguais: \", lista(list1, list2))"
   ]
  },
  {
   "cell_type": "markdown",
   "metadata": {},
   "source": [
    "3 Faça um programa que receba duas listas e retorne True se têm os mesmos elementos ou False caso contrário Duas listas possuem os mesmos elementos quando são compostas pelos mesmos valores, mas não obrigatoriamente na mesma ordem."
   ]
  },
  {
   "cell_type": "code",
   "execution_count": 6,
   "metadata": {},
   "outputs": [
    {
     "name": "stdout",
     "output_type": "stream",
     "text": [
      "As listas possuem mesmo conteúdo:  True\n",
      "As listas possuem mesmo conteúdo:  True\n",
      "As listas possuem mesmo conteúdo:  False\n"
     ]
    }
   ],
   "source": [
    "def listas(list1, list2):\n",
    "    list1.sort()\n",
    "    list2.sort()\n",
    "    if len(list1) == len(list2):\n",
    "        for i in range(0, len(list1)):\n",
    "            if list1[i] != list2[i]:\n",
    "                return False\n",
    "        return True\n",
    "    return False\n",
    "\n",
    "list1, list2 = [15, 30, 60], [15, 30, 60]\n",
    "print(\"possui o mesmo conteúdo: \", listas(list1, list2))\n",
    "list1, list2 = [15, 1, 30], [15, 30, 1]\n",
    "print(\"possui o mesmo conteúdo: \", listas(list1, list2))\n",
    "list1, list2 = [2, 6], [10, 8, 7]\n",
    "print(\"possui o mesmo conteúdo: \", listas(list1, list2))"
   ]
  },
  {
   "cell_type": "markdown",
   "metadata": {},
   "source": [
    "4 Faça um programa que percorre uma lista com o seguinte formato:\n",
    "[['Brasil', 'Italia', [10, 9]],\n",
    "['Brasil', 'Espanha', [5, 7]],\n",
    "['Italia', 'Espanha', [7,8]]].\n",
    "Essa lista indica o número de faltas que cada time fez em cada jogo. Na lista acima, no jogo entre Brasil e Itália, o Brasil fez 10 faltas e a Itália fez 9. O programa deve imprimir na tela: - o total de faltas do campeonato - o time que fez mais faltas - o time que fez menos faltas"
   ]
  },
  {
   "cell_type": "code",
   "execution_count": 7,
   "metadata": {},
   "outputs": [
    {
     "name": "stdout",
     "output_type": "stream",
     "text": [
      "Total de faltas do campeonato:  46\n"
     ]
    }
   ],
   "source": [
    "lista = [['Brasil', 'Italia', [10, 9]], ['Brasil', 'Espanha', [5, 7]], ['Italia', 'Espanha', [7,8]]]\n",
    "times = []\n",
    "        \n",
    "totalFaltas = 0\n",
    "for jogo in lista:\n",
    "    totalFaltas += jogo[2][0] + jogo[2][1]\n",
    "    \n",
    "print(\"Total de faltas: \", totalFaltas)\n"
   ]
  },
  {
   "cell_type": "markdown",
   "metadata": {},
   "source": [
    "5 Escreva um programa que conta a quantidade de vogais em uma string e armazena tal quantidade em um dicionário, onde a chave é a vogal considerada."
   ]
  },
  {
   "cell_type": "code",
   "execution_count": 12,
   "metadata": {},
   "outputs": [
    {
     "name": "stdout",
     "output_type": "stream",
     "text": [
      "Digite uma frase ola mundo cruel\n",
      "{'A': 1, 'E': 1, 'O': 2, 'U': 2}\n"
     ]
    }
   ],
   "source": [
    "string = input(\"Digite uma frase: \")\n",
    "dicio={}\n",
    "string_upper = string.upper()\n",
    "if (\"A\" in string_upper):\n",
    "    dicio['A']=string_upper.count(\"A\")\n",
    "if (\"E\" in string_upper):\n",
    "    dicio['E']=string_upper.count(\"E\")\n",
    "if (\"I\" in string_upper):\n",
    "    dicio['I']=string_upper.count(\"I\")\n",
    "if (\"O\" in string_upper):\n",
    "    dicio['O']=string_upper.count(\"O\")\n",
    "if (\"U\" in string_upper):\n",
    "    dicio['U']=string_upper.count(\"U\")\n",
    "print(dicio)"
   ]
  },
  {
   "cell_type": "markdown",
   "metadata": {},
   "source": [
    "6 Escreva um programa que lê̂ duas notas de vários alunos e armazena tais notas em um dicionário, onde a chave é o nome do aluno. A entrada de dados deve terminar quando for lida uma string vazia como nome. Escreva uma função que retorna a média do aluno, dado seu nome"
   ]
  },
  {
   "cell_type": "code",
   "execution_count": 8,
   "metadata": {},
   "outputs": [
    {
     "name": "stdout",
     "output_type": "stream",
     "text": [
      "Insira o nome do aluno: Matheus\n",
      "Insira a primeira nota: 8\n",
      "Insira a segunda nota: 9\n",
      "Insira o nome do aluno: Jonathan\n",
      "Insira a primeira nota: 7\n",
      "Insira a segunda nota: 8\n",
      "Insira o nome do aluno: \n",
      "Insira o nome do aluno o qual deseja ver a média: Jonathan\n"
     ]
    },
    {
     "data": {
      "text/plain": [
       "7.5"
      ]
     },
     "execution_count": 8,
     "metadata": {},
     "output_type": "execute_result"
    }
   ],
   "source": [
    "dicion = {}\n",
    "i = 0\n",
    "nome = input(\"Nome do aluno: \")\n",
    "while nome != \"\":\n",
    "    dicion[nome] = [\n",
    "        float(input(\"Primeira nota: \")),\n",
    "        float(input(\"Segunda nota: \"))\n",
    "    ]\n",
    "    nome = input(\"Nome do aluno: \")\n",
    "\n",
    "def media(nome):\n",
    "    return (dicion[nome][0] + dicion[nome][1]) / 2\n",
    "\n",
    "media(input(\"Nome do aluno pra vê a média: \"))"
   ]
  },
  {
   "cell_type": "markdown",
   "metadata": {},
   "source": [
    "7 Uma pista de Kart permite 10 voltas para cada um de 6 corredores. Escreva um programa que leia todos os tempos em segundos e os guarde em um dicionário, onde a chave é o nome do corredor. Ao fnal diga de quem foi a melhor volta da prova e em que volta; e ainda a classifcação fnal em ordem (1o o campeão). O campeão é o que tem a menor média de tempos."
   ]
  },
  {
   "cell_type": "code",
   "execution_count": null,
   "metadata": {},
   "outputs": [],
   "source": []
  },
  {
   "cell_type": "markdown",
   "metadata": {},
   "source": [
    "8 Escreva um programa para armazenar uma agenda de telefones em um dicionário. Cada pessoa pode ter um ou mais telefones e a chave do dicionário é o nome da pessoa. Seu programa deve ter as seguintes funções: incluirNovoNome – essa função acrescenta um novo nome na agenda, com um ou mais telefones. Ela deve receber como argumentos o nome e os telefones. incluirTelefone – essa função acrescenta um telefone em um nome existente na agenda. Caso o nome não exista na agenda, você̂ deve perguntar se a pessoa deseja inclui-lo. Caso a resposta seja afrmativa, use a função anterior para incluir o novo nome. excluirTelefone – essa função exclui um telefone de uma pessoa que já está na agenda. Se a pessoa tiver apenas um telefone, ela deve ser excluída da agenda. excluirNome – essa função exclui uma pessoa da agenda. consultarTelefone – essa função retorna os telefones de uma pessoa na agenda."
   ]
  },
  {
   "cell_type": "code",
   "execution_count": null,
   "metadata": {},
   "outputs": [],
   "source": []
  }
 ],
 "metadata": {
  "kernelspec": {
   "display_name": "Python 3",
   "language": "python",
   "name": "python3"
  },
  "language_info": {
   "codemirror_mode": {
    "name": "ipython",
    "version": 3
   },
   "file_extension": ".py",
   "mimetype": "text/x-python",
   "name": "python",
   "nbconvert_exporter": "python",
   "pygments_lexer": "ipython3",
   "version": "3.6.5"
  }
 },
 "nbformat": 4,
 "nbformat_minor": 2
}
