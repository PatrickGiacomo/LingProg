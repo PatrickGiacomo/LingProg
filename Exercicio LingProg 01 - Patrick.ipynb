{
 "cells": [
  {
   "cell_type": "markdown",
   "metadata": {},
   "source": [
    "Faça um Programa que peça o raio de um círculo, calcule e mostre sua área."
   ]
  },
  {
   "cell_type": "code",
   "execution_count": 7,
   "metadata": {},
   "outputs": [
    {
     "name": "stdout",
     "output_type": "stream",
     "text": [
      "Digite o raio do círculo2\n",
      "a 2.0\n"
     ]
    }
   ],
   "source": [
    "import math; \n",
    "raio = float(input(\"Digite o raio do círculo\"))\n",
    "\n",
    "area = math.pi * (raio ** 2)\n",
    "print ('a {}'.format(raio))"
   ]
  },
  {
   "cell_type": "code",
   "execution_count": null,
   "metadata": {},
   "outputs": [],
   "source": []
  },
  {
   "cell_type": "markdown",
   "metadata": {},
   "source": [
    "Faça um Programa que calcule a área de um quadrado, em seguida mostre o dobro desta área para o usuário. "
   ]
  },
  {
   "cell_type": "code",
   "execution_count": 9,
   "metadata": {},
   "outputs": [
    {
     "name": "stdout",
     "output_type": "stream",
     "text": [
      "Digite o lado do quadrado2\n",
      "A area do quadrado é 4.0 \n"
     ]
    }
   ],
   "source": [
    "import math\n",
    "\n",
    "quadrado = float(input(\"Digite o lado do quadrado\"))\n",
    "area = quadrado * quadrado\n",
    "print(\"A area do quadrado é {} \" .format(area))"
   ]
  },
  {
   "cell_type": "markdown",
   "metadata": {},
   "source": [
    "Faça um Programa que pergunte quanto você ganha por hora e o número de horas trabalhadas no mês. Calcule e mostre o total do seu salário no referido mês. "
   ]
  },
  {
   "cell_type": "code",
   "execution_count": 10,
   "metadata": {},
   "outputs": [
    {
     "name": "stdout",
     "output_type": "stream",
     "text": [
      "Digite o valor ganho por hora20\n",
      "Digite a quantidade de hors trabalhadas60\n",
      "O salario a receber é 1200.0 \n"
     ]
    }
   ],
   "source": [
    "import math\n",
    "\n",
    "valorHora = float(input(\"Digite o valor ganho por hora\"))\n",
    "horaTrabalhada = float(input(\"Digite a quantidade de hors trabalhadas\"))\n",
    "salario = valorHora * horaTrabalhada\n",
    "\n",
    "print(\"O salario a receber é {} \" .format(salario))\n"
   ]
  },
  {
   "cell_type": "markdown",
   "metadata": {},
   "source": [
    " Faça um Programa que peça a temperatura em graus Farenheit, transforme e mostre a temperatura em graus Celsius. C = (5 * (F-32) /9)."
   ]
  },
  {
   "cell_type": "code",
   "execution_count": 15,
   "metadata": {},
   "outputs": [
    {
     "name": "stdout",
     "output_type": "stream",
     "text": [
      "Digite a temperatura em Farenheith52\n",
      "A temperatura digitada em Celsios é 11.11111111111111 \n"
     ]
    }
   ],
   "source": [
    "import math\n",
    "\n",
    "f = float(input(\"Digite a temperatura em Farenheith\"))\n",
    "c = (5 * ( f - 32) / 9)\n",
    "print(\"A temperatura digitada em Celsios é {} \".format(c))     \n"
   ]
  },
  {
   "cell_type": "markdown",
   "metadata": {},
   "source": [
    "     Faça um Programa que peça a temperatura em graus Celsius, transforme e mostre em graus Farenheit. "
   ]
  },
  {
   "cell_type": "code",
   "execution_count": 17,
   "metadata": {},
   "outputs": [
    {
     "name": "stdout",
     "output_type": "stream",
     "text": [
      "Digite a temperatura em celsios32\n",
      "A temperatur digitada em Farenheith 89.6 \n"
     ]
    }
   ],
   "source": [
    "import math\n",
    "\n",
    "c =  float(input(\"Digite a temperatura em celsios\"))\n",
    "f = (1.8 * c) + 32\n",
    "print (\"A temperatur digitada em Farenheith {} \" .format(f))"
   ]
  },
  {
   "cell_type": "markdown",
   "metadata": {},
   "source": [
    " Faça um Programa que peça 2 números inteiros e um número real. Calcule e mostre: - o produto do dobro do primeiro com metade do segundo . - a soma do triplo do primeiro com o terceiro. - o terceiro elevado ao cubo."
   ]
  },
  {
   "cell_type": "code",
   "execution_count": null,
   "metadata": {},
   "outputs": [],
   "source": [
    "import math\n",
    "\n",
    "num1 = int(input(\"Digite o primeiro número  \"))\n",
    "num2 = int(input(\"Digite o segundo número  \"))\n",
    "num3 = float(input(\"Digite o terceiro numero  \"))\n",
    "             \n",
    "conta1 = (num1 * 2) * (num2 / 2)\n",
    "conta2 = (num1 * 3) + num3\n",
    "conta3 = num3 ** 3\n",
    "             \n",
    "print (\"O produto do dobro do primeiro com metade do segundo é {}\" .format(conta1))\n",
    "print (\"A soma do triplo do primeiro com o terceiro {} \" .format(conta2))\n",
    "print (\"O terceiro elevado ao cubo {} \" .format(conta3))"
   ]
  },
  {
   "cell_type": "markdown",
   "metadata": {},
   "source": [
    "João Papo-de-Pescador, homem de bem, comprou um microcomputador para controlar o rendimento diário de seu trabalho. Toda vez que ele traz um peso de peixes maior que o estabelecido pelo regulamento de pesca do estado de São Paulo (50 quilos8 deve pagar uma multa de R$ 4,00 por quilo excedente. João precisa que você faça um programa que leia a variável peso (peso de peixes8 e verifque se há excesso. Se houver, gravar na variável excesso e na variável multa o valor da multa que João deverá pagar. Caso contrário mostrar tais variáveis com o conteúdo ZERO. "
   ]
  },
  {
   "cell_type": "code",
   "execution_count": 35,
   "metadata": {},
   "outputs": [
    {
     "name": "stdout",
     "output_type": "stream",
     "text": [
      "Digite o peso do peixe pescado50\n",
      "Multa = zero, excesso = zero\n"
     ]
    }
   ],
   "source": [
    "import math\n",
    "\n",
    "peso = float(input(\"Digite o peso do peixe pescado\"))\n",
    "excesso = peso - 50\n",
    "multa = 4.0 * excesso\n",
    "\n",
    "if peso > 50: \n",
    "    print (\"Preço a pagar ´´´ {} \" .format(multa))\n",
    "else:  print(\"Multa = zero, excesso = zero\")\n"
   ]
  },
  {
   "cell_type": "markdown",
   "metadata": {},
   "source": [
    " Faça um Programa que pergunte quanto você ganha por hora e o número de horas trabalhadas no mês. Calcule e mostre o total do seu salário no referido mês, sabendo-se que são descontados 11% para o Imposto de Renda, 8% para o INSS e 5% para o sindicato, faça um programa que nos dê: - salário bruto. - quanto pagou ao INSS. - quanto pagou ao sindicato. - o salário líquido. - calcule os descontos e o salário líquido, conforme a tabela abaixo:           + Salário Bruto : R$           - IR (11%8 : R$           - INSS (8%8 : R$           - Sindicato ( 5%8 : R$           = Salário Liquido : R$ Obs.: Salário Bruto - Descontos = Salário Líquido.\n"
   ]
  },
  {
   "cell_type": "code",
   "execution_count": null,
   "metadata": {},
   "outputs": [],
   "source": [
    "import math;\n",
    "salariohora = float(input('Quanto voce ganha por hora? '))\n",
    "horastrabalho = float(input('Quantas horas você trabalha por mês? '))\n",
    "salariob = salariohora * horastrabalho\n",
    "ir = (salariob / 100) * 11\n",
    "inss = (salariob/100) * 8\n",
    "sind = (salariob/100) * 5\n",
    "desc = ir + inss + sind\n",
    "salariol = salariob - desc\n",
    "print('O seu salario bruto é {} e o seu salario liquido é {}, seus descontos são {} com {} para Imposto de Renda, {} par  INSS e {} para o sindicato' .format(salariob, salariol, desc, ir, inss, sind))\n"
   ]
  },
  {
   "cell_type": "markdown",
   "metadata": {},
   "source": [
    "9 Faça um programa que leia 2 strings e informe o conteúdo delas seguido do seu comprimento. Informe também se as duas strings possuem o mesmo comprimento e são iguais ou diferentes no conteúdo. Exemplo: String 1: Brasil Hexa 2018 String 2: Brasil! Hexa 2018! Tamanho de \"Brasil Hexa 2018\": 16 caracteres Tamanho de \"Brasil! Hexa 2018!\": 18 caracteres As duas strings são de tamanhos diferentes. As duas strings possuem conteúdo diferente.\n"
   ]
  },
  {
   "cell_type": "code",
   "execution_count": null,
   "metadata": {},
   "outputs": [],
   "source": [
    "import string;\n",
    "\n",
    "string1 = input('Digite a primeira string')\n",
    "string2 = input('Digite a segunda string')\n",
    "\n",
    "print(len(string1) )\n",
    "print(len(string2) )\n",
    " \n",
    "if len(string1) == len(string2):\n",
    "    print('As duas strings tem o mesmo tamanho')\n",
    "else: print('As duas strings tem tamanho diferente')\n",
    "\n",
    "if string1 == string2:\n",
    "    print('As duas strings possuem conteudos iguais ')\n",
    "else: print('As duas strings possuem conteudos diferentes')"
   ]
  },
  {
   "cell_type": "markdown",
   "metadata": {},
   "source": [
    "Faça um programa que permita ao usuário digitar o seu nome e em seguida mostre o nome do usuário de trás para frente utilizando\n",
    "somente letras maiúsculas. Dica: lembre−se que ao informar o nome o usuário pode digitar letras maiúsculas ou minúsculas. Observação: não use loops.\n"
   ]
  },
  {
   "cell_type": "code",
   "execution_count": null,
   "metadata": {},
   "outputs": [],
   "source": [
    "import string;\n",
    "\n",
    "nome =  input('Digite seu nome ')\n",
    "\n",
    "print (nome[::-1].upper())\n",
    "\n"
   ]
  },
  {
   "cell_type": "markdown",
   "metadata": {},
   "source": [
    " Faça um programa que solicite a data de nascimento (dd/mm/aaaa8 do usuário e imprima a data com o nome do mês por extenso. Data de Nascimento: 29/10/1973 Você nasceu em  29 de Outubro de 1973. Obs.: Não use desvio condicional nem loops."
   ]
  },
  {
   "cell_type": "code",
   "execution_count": null,
   "metadata": {},
   "outputs": [],
   "source": [
    "import locale\n",
    "from datetime import date\n",
    "locale.setlocale(locale.LC_TIME, 'portuguese_brazil')\n",
    "\n",
    "datanasc = input(\"Informe a data de nascimento: (dd/mm/aaaa)\").split(\"/\")\n",
    "data = date(day=int(datanasc[0]), month=int(datanasc[1]), year=int(datanasc[2]))\n",
    "\n",
    "str = data.strftime('%A %d de %B de %Y')\n",
    "\n",
    "print(\"Você nasceu em\", str)"
   ]
  },
  {
   "cell_type": "markdown",
   "metadata": {},
   "source": [
    " Leet é uma forma de se escrever o alfabeto latino usando outros símbolos em lugar das letras, como números por exemplo. A própria palavra leet admite muitas variações, como l33t ou 1337. O uso do leet reflete uma subcultura relacionada ao mundo dos jogos de computador e internet, sendo muito usada para confundir os iniciantes e afrmar-se como parte de um grupo. Pesquise sobre as principais formas de traduzir as letras. Depois, faça um programa que peça uma texto e transforme-o para a grafa leet speak. Desafo: não use loops nem desvios condicionais. "
   ]
  },
  {
   "cell_type": "code",
   "execution_count": null,
   "metadata": {},
   "outputs": [],
   "source": [
    "string = input(\"Digite um texto qualquer: \")\n",
    "    \n",
    "translation = {\"a\": \"4\", \"A\": \"4\", \"e\": \"3\", \"E\": \"3\", \"i\": \"1\", \"I\": \"1\", \"o\": \"0\", \"O\": \"0\", \"t\": \"7\", \"T\": \"7\", \"s\": '5', \"S\": '5'}\n",
    "\n",
    "string = string.translate(str.maketrans(translation))\n",
    "\n",
    "print(string)"
   ]
  }
 ],
 "metadata": {
  "kernelspec": {
   "display_name": "Python 3",
   "language": "python",
   "name": "python3"
  },
  "language_info": {
   "codemirror_mode": {
    "name": "ipython",
    "version": 3
   },
   "file_extension": ".py",
   "mimetype": "text/x-python",
   "name": "python",
   "nbconvert_exporter": "python",
   "pygments_lexer": "ipython3",
   "version": "3.6.5"
  }
 },
 "nbformat": 4,
 "nbformat_minor": 2
}
