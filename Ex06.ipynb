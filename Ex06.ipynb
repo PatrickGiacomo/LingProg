
# coding: utf-8

# 1) Defina a função somannat que recebe como argumento um número natural n  e devolve a soma de todos os números naturais   até n. Ex: somannat(5) = 15

# In[1]:


def soma_naturais(n):
    return 1 if n == 1 else n + soma_naturais(n-1)

print(soma_naturais(10))
print(soma_naturais(16))
print(soma_naturais(4))


# 2) Defina a função div que recebe como argumentos dois números naturais m e n e devolve o resultado da divisão inteira de m por n. Neste exercício você não pode recorrer às operações aritmétcas de multplicação, divisão e resto da divisão inteira. Ex: div(7,2) = 3

# In[4]:


def div(dividendo, divisor):
    return 0 if dividendo < divisor else 1 + div(dividendo - divisor, divisor) 

print(div(16,4))
print(div(12,6))


# 3) Defna a função prim_alg que recebe como argumento um número natural e devolve o primeiro algarismo (o mais signifcatvo) na representação decimal de n. Ex: prim_alg(5649) = 5 Ex: prim_alg(7) = 7

# In[5]:


def prim_alg(num):
    return int(num) if len(str(num)) == 1 else prim_alg(str(num)[:-1])

print(prim_alg(155))
print(prim_alg(35))


# 4) Defina a função prod_lista que recebe como argumento uma lista de inteiros e devolve o produto dos seus elementos. Ex: prodnlista([1,2,3,4,5,6]) = 720

# In[6]:


def prod_lista(lista):
    if len(lista) == 1:
        return lista[0]
    else:
        return lista[0] * prod_lista(lista[1:])

print(prod_lista([1,2,3,4,5,6,7,8,9,10]))


# 5) Defina a função contem_parQ que recebe como argumento uma lista de números inteiros w e devolve True se w contém um número par e False em caso contrário. Ex: contem_parQ([2,3,1,2,3,4]) = True Ex: contem_parQ([1,3,5,7]) = False

# In[9]:


def contem_parQ(lista):
    response = False if len(lista) == 0 or (lista[len(lista) - 1] % 2 != 0 and not contem_parQ(lista[:-1])) else True
    return response

    
print(contem_parQ([4, 2, 6, 2, 7, 10]))
print(contem_parQ([10, 33, 45, 17]))
print(contem_parQ([2, 4, 6, 8, 10]))
print(contem_parQ([1, 3, 5, 7, 9]))


# 6) Defna a função todos_imparesQ que recebe como argumento uma lista de números inteiros w e devolve True se w contém apenas números ímpares e False em caso contrário. Ex: todos_imparesQ([1,3,5,7]) = True Ex: todos_imparesQ([]) = True Ex: todos_imparesQ([1,2,3,4,5]) = False

# In[10]:


def todos_imparesQ(lista):
    response = False
    if len(lista) == 0 or (lista[len(lista) - 1] % 2 != 0 and todos_imparesQ(lista[:-1])):
        response = True
    return response

print(todos_imparesQ([1,3,5,7,9,11,13]))
print(todos_imparesQ([1,3,5,7,9,11,13, 14]))


# 7) Defina a função pertenceQ que recebe como argumentos uma lista de números inteiros w e um número inteiro n e devolve True se n ocorre em w e False em caso contrário. Ex: pertenceQ([1,2,3],1) = True Ex: pertenceQ([1,2,3],2) = True Ex: pertenceQ([1,2,3],3) = True Ex: pertenceQ([1,2,3],4) = False

# In[11]:


def pertenceQ(w,n):
    return True if len(w) > 0 and (w[len(w)-1]== n or pertenceQ(w[:-1],n)) else False
    
print(pertenceQ([1,2,3],1))
print(pertenceQ([1,2,3],2))
print(pertenceQ([1,2,3],3))
print(pertenceQ([1,2,3],4))


# 8) Defina a função junta que recebe como argumentos duas listas de números inteiros w1 e w2 e devolve a concatenação de w1 com w2 . Ex: junta([1,2,3],[4,5,6]) = [1, 2, 3, 4, 5, 6] Ex: junta([],[4,5,6]) = [4, 5, 6] Ex: junta([1,2,3],[]) = [1, 2, 3]

# In[ ]:


def junta(w1,w2):
    return w1+w2

print(junta([1,2,3],[4,5,6]))
print(junta([],[4,5,6]))
print(junta([1,2,3],[]))


# 9) Defina a função temPrimoQ que recebe como argumento uma lista de listas de números inteiros w e devolve True se alguma das sublistas w tem um número primo e False em caso contrário. Ex: temPrimoQ([[4,4,4,4],[5,4,6,7],[2,4,3]]) = True Ex: temPrimoQ([[4,4,4,4],[4,4,4],[],[4]]) = False

# In[ ]:


def prim_alg(num):
    return int(num) if len(str(num)) == 1 else prim_alg(str(num)[:-1])

print(prim_alg(155))
print(prim_alg(35))


# 10) Defina a função inverteLista que recebe como argumento uma lista w e devolve a mesma lista mas invertda. Ex: inverteLista([1,2,3,4,5]) = [5, 4, 3, 2, 1] Ex: inverteLista([])

# def inverteLista(lista):
#     if len(lista) == 0:
#         return inverteLista
#     else:
#         listaInvertida += [lista[-1]]
#         return inverteLista + inverteLista(lista[:-1])
# 
# 
# print(inverteLista([1,2,3,4,5]))
