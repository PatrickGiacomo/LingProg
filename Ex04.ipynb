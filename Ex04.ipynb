{
 "cells": [
  {
   "cell_type": "code",
   "execution_count": null,
   "metadata": {},
   "outputs": [],
   "source": [
    "1 Menor de dois pares: Escreva uma função que retorne o menor de dois números dados se ambos os números forem pares, mas retorna o maior se um dos dois for ímpar. Exemplo: menor_de_dois_pares(2,4) --> 2 menor_de_dois_pares (2,5) --> 5\n"
   ]
  },
  {
   "cell_type": "code",
   "execution_count": 2,
   "metadata": {},
   "outputs": [
    {
     "name": "stdout",
     "output_type": "stream",
     "text": [
      "10\n",
      "16\n",
      "23\n",
      "20\n"
     ]
    }
   ],
   "source": [
    "def menor_de_dois_pares (num01, num02):\n",
    "    if num01 %2 == 0 and num02 %2 == 0:\n",
    "        if num01 >  num02:\n",
    "            return num02\n",
    "        else:\n",
    "            return num01\n",
    "    else:\n",
    "        if num01 > num02:\n",
    "            return num01\n",
    "        else:\n",
    "            return num02\n",
    "        \n",
    "print(menor_de_dois_pares(20,10))\n",
    "print(menor_de_dois_pares(16,11))\n",
    "print(menor_de_dois_pares(23,18))\n",
    "print(menor_de_dois_pares(9,20))"
   ]
  },
  {
   "cell_type": "markdown",
   "metadata": {},
   "source": [
    "2 Mesma letra: Escreva uma função que receba uma string com duas palavras e retorne True se ambas palavras começarem com a mesma letra. Exemplo:\n",
    "mesma_letra('Cão covarde') -> True mesma_letra('Vira Lata') -> False\n"
   ]
  },
  {
   "cell_type": "code",
   "execution_count": 19,
   "metadata": {},
   "outputs": [
    {
     "name": "stdout",
     "output_type": "stream",
     "text": [
      "False\n",
      "False\n",
      "True\n",
      "True\n"
     ]
    }
   ],
   "source": [
    "def iniciais_iguais (palavra):\n",
    "    partes = palavra.split(\" \")\n",
    "    if partes[0][0] == partes[1][0]:\n",
    "       return True\n",
    "    return False\n",
    "\n",
    "print(iniciais_iguais(\"Greys Anatomy\"))\n",
    "print(iniciais_iguais(\"Harry Potter\"))\n",
    "print(iniciais_iguais(\"Peter Parker\"))\n",
    "print(iniciais_iguais(\"Scoot Summer\"))"
   ]
  },
  {
   "cell_type": "code",
   "execution_count": null,
   "metadata": {},
   "outputs": [],
   "source": [
    "print(iniciais_iguais('Harry Potter'))\n",
    "3 Mestre Yoda: Dada uma sentença, a função deve retornar a sentença com as palavras na ordem reversa. Exemplo:\n",
    "mestre_yoda('Eu estou em casa') --> 'casa em estou Eu' mestre_yoda('Estamos prontos') --> 'prontos Estamos'"
   ]
  },
  {
   "cell_type": "code",
   "execution_count": 4,
   "metadata": {},
   "outputs": [
    {
     "name": "stdout",
     "output_type": "stream",
     "text": [
      "['bom', 'de', 'nada', 'fazer', 'não', 'solenemente', 'juro']\n",
      "['feito', 'feito', 'mal']\n",
      "['ALWAYS', '...', 'time', 'this', 'all', 'Alter']\n",
      "['bando', 'em', 'balbuciando', 'bobocas', 'babuinos']\n"
     ]
    }
   ],
   "source": [
    "def frase_invertida (frase):\n",
    "    lista = frase.split(\" \")\n",
    "    return lista[::-1]\n",
    "\n",
    "print(frase_invertida(\"juro solenemente não fazer nada de bom\"))\n",
    "print(frase_invertida(\"mal feito feito\"))\n",
    "print(frase_invertida(\"Alter all this time ... ALWAYS\"))\n",
    "print(frase_invertida(\"babuinos bobocas balbuciando em bando\"))"
   ]
  },
  {
   "cell_type": "code",
   "execution_count": null,
   "metadata": {},
   "outputs": [],
   "source": [
    "4 Tem 33: Faça uma função que retorne True se, dada uma lista de inteiros, houver em alguma posição da lista um 3 do lado de outro 3. Exemplo:\n",
    "tem_33([1,3,3]) --> True tem_33([1,3,1,3]) --> False tem_33([3,1,3]) --> False\n"
   ]
  },
  {
   "cell_type": "code",
   "execution_count": 12,
   "metadata": {},
   "outputs": [
    {
     "name": "stdout",
     "output_type": "stream",
     "text": [
      "True\n",
      "True\n",
      "False\n"
     ]
    }
   ],
   "source": [
    "def tem_33 (lista):\n",
    "    status = \"Nada\"\n",
    "    for simbolo in lista:\n",
    "        if simbolo == 3:\n",
    "            if status == \"Nada\":\n",
    "                status = \"Tres\"\n",
    "            elif status == \"Tres\":\n",
    "                return True\n",
    "        else:\n",
    "            if status == \"Tres\":\n",
    "                status = \"Nada\"\n",
    "    return False\n",
    "\n",
    "print(tem_33([1, 3, 3, 5, 6, 3]))\n",
    "print(tem_33([1, 6, 1, 3, 3]))\n",
    "print(tem_33([0, 9, 3]))"
   ]
  },
  {
   "cell_type": "markdown",
   "metadata": {},
   "source": [
    "5 Blackjack: Faça uma função que receba 3 inteiros entre 1 e 11. Se a soma deles for menor que 21, retorne o valor da soma. Se for mair do que 21 e houver um 11, \n",
    "subtraia 10 da soma antes de apresentar o resultado. Se o valor da soma passar de 21, retorne ‘ESTOUROU’. Exemplo:\n",
    "blackjack(5,6,7) --> 18 blackjack(9,9,9) --> 'ESTOUROU' blackjack(9,9,11) --> 19"
   ]
  },
  {
   "cell_type": "code",
   "execution_count": 18,
   "metadata": {},
   "outputs": [
    {
     "name": "stdout",
     "output_type": "stream",
     "text": [
      "19\n",
      "19\n",
      "21\n",
      "('ESTOUROU', 27)\n"
     ]
    }
   ],
   "source": [
    "def blackjack (a, b, c):\n",
    "    soma = a + b + c\n",
    "    if soma <= 21:\n",
    "        return soma\n",
    "    else:\n",
    "        if 11 in [a, b, c]:\n",
    "            return soma - 10\n",
    "        else:\n",
    "            return ('ESTOUROU', soma)\n",
    "\n",
    "print(blackjack(4, 5, 10))\n",
    "print(blackjack(9, 9, 11))\n",
    "print(blackjack(7, 7, 7))\n",
    "print(blackjack(9, 9, 9))"
   ]
  },
  {
   "cell_type": "code",
   "execution_count": null,
   "metadata": {},
   "outputs": [],
   "source": [
    "6 Espião: Escreva uma função que receba uma lista de inteiros e retorne True se contém um 007 em ordem, mesmo que não contínuo. Exemplo:\n",
    "espiao([1,2,4,0,0,7,5]) --> True espiao([1,0,2,4,0,5,7]) --> True espiao([1,7,2,4,0,5,0]) --> False"
   ]
  },
  {
   "cell_type": "code",
   "execution_count": null,
   "metadata": {},
   "outputs": [],
   "source": []
  }
 ],
 "metadata": {
  "kernelspec": {
   "display_name": "Python 3",
   "language": "python",
   "name": "python3"
  },
  "language_info": {
   "codemirror_mode": {
    "name": "ipython",
    "version": 3
   },
   "file_extension": ".py",
   "mimetype": "text/x-python",
   "name": "python",
   "nbconvert_exporter": "python",
   "pygments_lexer": "ipython3",
   "version": "3.6.5"
  }
 },
 "nbformat": 4,
 "nbformat_minor": 2
}
