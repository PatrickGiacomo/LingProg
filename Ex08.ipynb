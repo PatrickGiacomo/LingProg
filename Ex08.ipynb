{
 "cells": [
  {
   "cell_type": "markdown",
   "metadata": {},
   "source": [
    "1. Escreva uma função que calcula a soma dos n primeiros números naturais, dado que n é recebido como parâmetro. Escreva um decorator que garanta que o valor recebido é natural (maior ou igual a 1)."
   ]
  },
  {
   "cell_type": "code",
   "execution_count": 3,
   "metadata": {},
   "outputs": [
    {
     "name": "stdout",
     "output_type": "stream",
     "text": [
      "136\n",
      "66\n",
      "4465\n"
     ]
    }
   ],
   "source": [
    "class Somatoria:\n",
    "    def __init__(ref,f):\n",
    "        ref.f = f\n",
    "    def __call__(ref,n):\n",
    "        if (n>=1):\n",
    "            return ref.f(n)\n",
    "        else:\n",
    "            print(\"O valor deve ser maior ou igual a 1\")\n",
    "            return 0\n",
    "@Somatoria\n",
    "def calcula_soma(n):\n",
    "    soma=0\n",
    "    for x in range(n+1):\n",
    "        soma = soma + x\n",
    "    return soma\n",
    "\n",
    "print(calcula_soma(16))\n",
    "print(calcula_soma(11))\n",
    "print(calcula_soma(94))"
   ]
  },
  {
   "cell_type": "code",
   "execution_count": 7,
   "metadata": {},
   "outputs": [
    {
     "name": "stdout",
     "output_type": "stream",
     "text": [
      "136\n",
      "66\n",
      "4465\n"
     ]
    }
   ],
   "source": [
    "def vamos_somar (f):\n",
    "    def somando(n):\n",
    "        if (n>=1):\n",
    "            return f(n)\n",
    "        else:\n",
    "            print(\"O valor deve ser maior ou igual a 1\")\n",
    "            return 0\n",
    "    return somando\n",
    "\n",
    "def calcula_soma(n):\n",
    "    soma=0\n",
    "    for x in range(n+1):\n",
    "        soma = soma + x\n",
    "    return soma\n",
    "\n",
    "calcula_soma = vamos_somar(calcula_soma)\n",
    "print(calcula_soma(16))\n",
    "print(calcula_soma(11))\n",
    "print(calcula_soma(94))"
   ]
  },
  {
   "cell_type": "code",
   "execution_count": 8,
   "metadata": {},
   "outputs": [
    {
     "name": "stdout",
     "output_type": "stream",
     "text": [
      "136\n",
      "66\n",
      "1989015\n"
     ]
    }
   ],
   "source": [
    "def vamos_somar (f):\n",
    "    def somando(n):\n",
    "        if (n>=1):\n",
    "            return f(n)\n",
    "        else:\n",
    "            print(\"O valor deve ser maior ou igual a 1\")\n",
    "            return 0\n",
    "    return somando\n",
    "\n",
    "@vamos_somar\n",
    "def calcula_soma(n):\n",
    "    soma=0\n",
    "    for x in range(n+1):\n",
    "        soma = soma + x\n",
    "    return soma\n",
    "\n",
    "print(calcula_soma(16))\n",
    "print(calcula_soma(11))\n",
    "print(calcula_soma(1994))\n"
   ]
  },
  {
   "cell_type": "markdown",
   "metadata": {},
   "source": [
    "2. Escreva uma função que recebe uma lista de triplas e, para cada uma, gera uma equação do segundo grau considerando que os elementos da tripla são os coefcientes usualmente denominados a, b e c da equação. Note que a sua função deverá devolver uma lista de equações. A geração das equações deve ser feita por meio de, evidentemente, decorators."
   ]
  },
  {
   "cell_type": "code",
   "execution_count": 16,
   "metadata": {},
   "outputs": [
    {
     "name": "stdout",
     "output_type": "stream",
     "text": [
      "['16xˆ2+16x+16', '11xˆ2+11x+11', '94xˆ2+94x+94']\n"
     ]
    }
   ],
   "source": [
    "class Equação_Grau2:\n",
    "    def __init__ (ref,f):\n",
    "        ref.f = f\n",
    "        ref.equ =[]\n",
    "    def __call__(ref,lista):\n",
    "        for e in lista:\n",
    "            ref.equ.append(ref.f(e))\n",
    "        return ref.equ\n",
    "    \n",
    "@Equação_Grau2\n",
    "def mostra_equação(lista):\n",
    "    equacao = str(lista) + \"xˆ2\" + \"+\" + str(lista) + \"x\" + \"+\"+ str(lista)\n",
    "    return equacao\n",
    "\n",
    "print(mostra_equação([16,11,94]))"
   ]
  },
  {
   "cell_type": "code",
   "execution_count": 18,
   "metadata": {},
   "outputs": [
    {
     "name": "stdout",
     "output_type": "stream",
     "text": [
      "['16xˆ2+16x+16', '11xˆ2+11x+11', '94xˆ2+94x+94']\n"
     ]
    }
   ],
   "source": [
    "def Equação_Grau2(f):\n",
    "    equ = []\n",
    "    def decorator(lista):\n",
    "        for e in lista:\n",
    "            equ.append(f(e))\n",
    "        return equ\n",
    "    return decorator\n",
    "\n",
    "@Equação_Grau2\n",
    "def mostra_equação(lista):\n",
    "    equacao = str(lista) + \"xˆ2\" + \"+\" + str(lista) + \"x\" + \"+\"+ str(lista)\n",
    "    return equacao\n",
    "\n",
    "print(mostra_equação([16,11,94]))"
   ]
  },
  {
   "cell_type": "code",
   "execution_count": 19,
   "metadata": {},
   "outputs": [
    {
     "name": "stdout",
     "output_type": "stream",
     "text": [
      "['16xˆ2+16x+16', '11xˆ2+11x+11', '94xˆ2+94x+94']\n"
     ]
    }
   ],
   "source": [
    "def Equação_Grau2(f):\n",
    "    equ = []\n",
    "    def decorator(lista):\n",
    "        for e in lista:\n",
    "            equ.append(f(e))\n",
    "        return equ\n",
    "    return decorator\n",
    "\n",
    "def mostrar_equação(lista):\n",
    "    equacao = str(lista) + \"xˆ2\" + \"+\" + str(lista) + \"x\" + \"+\"+ str(lista)\n",
    "    return equacao\n",
    "\n",
    "mostrar_equação = Equação_Grau2(mostrar_equação)\n",
    "\n",
    "print(mostrar_equação([16,11,94]))"
   ]
  },
  {
   "cell_type": "markdown",
   "metadata": {},
   "source": [
    "3. Escreva uma função que exibe uma lista recebida como parâmetro. Ela deve, contudo, ordenar a lista antes. A ordenação deve ser feita por meio de um decorator.\n"
   ]
  },
  {
   "cell_type": "code",
   "execution_count": 21,
   "metadata": {},
   "outputs": [
    {
     "name": "stdout",
     "output_type": "stream",
     "text": [
      "[11, 16, 18, 19, 20, 23, 94]\n",
      "None\n"
     ]
    }
   ],
   "source": [
    "class Ordenação:\n",
    "    def __init__(ref, f):\n",
    "        ref.f = f\n",
    "    def __call__(ref, lista):\n",
    "        return ref.f(sorted(lista))\n",
    "\n",
    "@Ordenação\n",
    "def exibir_ordenada(lista):\n",
    "    print(lista)\n",
    "    \n",
    "print(exibir_ordenada([94,19,16,11,23,20,18]))"
   ]
  },
  {
   "cell_type": "code",
   "execution_count": 22,
   "metadata": {},
   "outputs": [
    {
     "name": "stdout",
     "output_type": "stream",
     "text": [
      "[11, 16, 18, 19, 20, 23, 94]\n",
      "None\n"
     ]
    }
   ],
   "source": [
    "def Ordenação(f):\n",
    "    def decorator(lista):\n",
    "        return f(sorted(lista))\n",
    "    return decorator\n",
    "\n",
    "@Ordenação\n",
    "def exibir_ordenada(lista):\n",
    "    print(lista)\n",
    "    \n",
    "print(exibir_ordenada([94,19,16,11,23,20,18]))"
   ]
  },
  {
   "cell_type": "code",
   "execution_count": 6,
   "metadata": {},
   "outputs": [
    {
     "name": "stdout",
     "output_type": "stream",
     "text": [
      "[11, 16, 18, 19, 20, 23, 94]\n",
      "None\n"
     ]
    }
   ],
   "source": [
    "def Ordenação(f):\n",
    "    def decorator(lista):\n",
    "        return f(sorted(lista))\n",
    "    return decorator\n",
    "\n",
    "def exibir_ordenada(lista):\n",
    "    print(lista)\n",
    "\n",
    "exibir_ordenada = Ordenação(exibir_ordenada)\n",
    "print(exibir_ordenada([94,19,16,11,23,20,18]))"
   ]
  },
  {
   "cell_type": "markdown",
   "metadata": {},
   "source": [
    "4. Escreva uma classe para representar um café que, a princípio, tem somente preço. Um cafezinho custa 5 reais. \n",
    "\n",
    "Escreva classes para representar os adicionais: \n",
    "\n",
    "- palitos de chocolate (0,50 cents)\n",
    "- espuma de leite (0,20 cents)\n",
    "- caramelo (0,10 cents) \n",
    "- canela (0,30 cents). \n",
    "\n",
    "Crie um objeto café e, a seguir, faça um menuzinho em que o usuário pode fcar indefnidamente escolhendo adicionais: 1 para chocolate, 2 para espuma de leite, 3 para caramelo e 4 para canela. A cada adicional escolhido, decore o objeto café. No fnal, mostre o preço total."
   ]
  },
  {
   "cell_type": "code",
   "execution_count": null,
   "metadata": {},
   "outputs": [],
   "source": []
  },
  {
   "cell_type": "code",
   "execution_count": null,
   "metadata": {},
   "outputs": [],
   "source": []
  },
  {
   "cell_type": "code",
   "execution_count": null,
   "metadata": {},
   "outputs": [],
   "source": []
  }
 ],
 "metadata": {
  "kernelspec": {
   "display_name": "Python 3",
   "language": "python",
   "name": "python3"
  },
  "language_info": {
   "codemirror_mode": {
    "name": "ipython",
    "version": 3
   },
   "file_extension": ".py",
   "mimetype": "text/x-python",
   "name": "python",
   "nbconvert_exporter": "python",
   "pygments_lexer": "ipython3",
   "version": "3.7.0"
  }
 },
 "nbformat": 4,
 "nbformat_minor": 2
}
