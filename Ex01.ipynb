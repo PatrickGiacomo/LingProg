{
 "cells": [
  {
   "cell_type": "markdown",
   "metadata": {},
   "source": [
    "1 Faça um Programa que peça o raio de um círculo, calcule e mostre sua área. "
   ]
  },
  {
   "cell_type": "code",
   "execution_count": null,
   "metadata": {},
   "outputs": [],
   "source": [
    "import math;\n",
    "raio = float(input(\"Digite o raio do circulo\"))\n",
    "area = math.pi * (raio ** 2)\n",
    "\n",
    "print(\"A área do circulo é %10.2f\" %area)\n"
   ]
  },
  {
   "cell_type": "markdown",
   "metadata": {},
   "source": [
    "2 Faça um Programa que calcule a área de um quadrado, em seguida mostre o dobro desta área para o usuário. "
   ]
  },
  {
   "cell_type": "code",
   "execution_count": null,
   "metadata": {},
   "outputs": [],
   "source": [
    "lado = float(input(\"Digite o lado do quadrado \"))\n",
    "area = lado * lado\n",
    "dobro_area = area * 2\n",
    "\n",
    "print(\"A área do quadrado é {}\".format(area))\n",
    "print(\"O dobro da área do quadrado é {}\".format(dobro_area))"
   ]
  },
  {
   "cell_type": "markdown",
   "metadata": {},
   "source": [
    "3 Faça um Programa que pergunte quanto você ganha por hora e o número de horas trabalhadas no mês. Calcule e mostre o total do seu salário no referido mês"
   ]
  },
  {
   "cell_type": "code",
   "execution_count": null,
   "metadata": {},
   "outputs": [],
   "source": [
    "valor_hora = float(input(\"Digite o valor recebido por hora \"))\n",
    "horas_trabalhadas = float(input(\"Digite a quantidade de horas trabalhadas \"))\n",
    "salario = valor_hora * horas_trabalhadas\n",
    "\n",
    "print(\"O salário a receber é R$ {}\".format(salario))"
   ]
  },
  {
   "cell_type": "markdown",
   "metadata": {},
   "source": [
    "4 Faça um Programa que peça a temperatura em graus Farenheit, transforme e mostre a temperatura em graus Celsius. C = (5 * (F - 32) / 9)"
   ]
  },
  {
   "cell_type": "code",
   "execution_count": null,
   "metadata": {},
   "outputs": [],
   "source": [
    "temp_Farenheit = float(input(\"Digite a temperatura em graus Farenheit \"))\n",
    "temp_Celsius = ( 5 * ( temp_Farenheit - 32 ) / 9 )\n",
    "\n",
    "print(\"A temperatura digitada trasformda em Celsius é %10.2f\" %temp_Celsius )"
   ]
  },
  {
   "cell_type": "markdown",
   "metadata": {},
   "source": [
    "5 Faça um Programa que peça a temperatura em graus Celsius, transforme e mostre em graus Farenheit."
   ]
  },
  {
   "cell_type": "code",
   "execution_count": null,
   "metadata": {},
   "outputs": [],
   "source": [
    "temp_Celsius =  float(input(\"Digite a temperatura em graus Celsius\"))\n",
    "temp_Farenheit = (1.8 * temp_Celsius) + 32\n",
    "\n",
    "print(\"A temperatura digitada trasformda em Farenheit é %10.2f\" %temp_Farenheit )\n"
   ]
  },
  {
   "cell_type": "markdown",
   "metadata": {},
   "source": [
    "6 Faça um Programa que peça 2 números inteiros e um número real. Calcule e mostre: \n",
    "\n",
    "- o produto do dobro do primeiro com metade do segundo\n",
    "- a soma do triplo do primeiro com o terceiro. \n",
    "- o terceiro elevado ao cubo."
   ]
  },
  {
   "cell_type": "code",
   "execution_count": null,
   "metadata": {},
   "outputs": [],
   "source": [
    "num01 = int(input(\"Digite o primeiro número\"))\n",
    "num02 = int(input(\"Digite o segundo número\"))\n",
    "num03 = float(input(\"Digite o terceiro número\"))\n",
    "\n",
    "conta01 = (num01 * 2) * (num02 / 2)\n",
    "conta02 = (num01 * 3) + num03\n",
    "conta03 = num03 ** 3\n",
    "\n",
    "print(\"O produto do dobro do primeiro com metade do segundo é: {}\".format(conta01))\n",
    "print(\"A soma do triplo do primeiro com o terceiro é: {}\".format(conta02))\n",
    "print(\"O terceiro elevado ao cubo é: {}\".format(conta03))"
   ]
  },
  {
   "cell_type": "markdown",
   "metadata": {},
   "source": [
    "7 João Papo-de-Pescador, homem de bem, comprou um microcomputador para controlar o rendimento diário de seu trabalho. Toda vez que ele traz um peso de peixes maior que o estabelecido pelo regulamento de pesca do estado de São Paulo (50 quilos) deve pagar uma multa de R$ 4,00 por quilo excedente. João precisa que você faça um programa que leia a variável peso (peso de peixes) e verifque se há excesso. Se houver, gravar na variável excesso e na variável multa o valor da multa que João deverá pagar. Caso contrário mostrar tais variáveis com o conteúdo ZERO. "
   ]
  },
  {
   "cell_type": "code",
   "execution_count": null,
   "metadata": {},
   "outputs": [],
   "source": [
    "peso = float(input(\"Digite o peso do peixe pescado \"))\n",
    "excesso = peso - 50\n",
    "multa = 4.0 * excesso\n",
    "\n",
    "if peso > 50: \n",
    "    print(\"O peso excedente é {} Kg\".format(excesso))\n",
    "    print(\"O valor da multa a pagar pelo peso excedente é: R$ {}\".format(multa))\n",
    "else:  print(\"O peso não excedeu o permitido multa a pagar = ZERO\")"
   ]
  },
  {
   "cell_type": "markdown",
   "metadata": {},
   "source": [
    "8 Faça um Programa que pergunte quanto você ganha por hora e o número de horas trabalhadas no mês. \n",
    "Calcule e mostre o total do seu salário no referido mês, sabendo-se que são descontados \n",
    "11% para o Imposto de Renda, 8% para o INSS e 5% para o sindicato, \n",
    "\n",
    "faça um programa que nos dê: - salário bruto. - quanto pagou ao INSS. - quanto pagou ao sindicato. - o salário líquido. - calcule os descontos e o salário líquido, conforme a tabela abaixo:          \n",
    "\n",
    "- Salário Bruto : R$           \n",
    "- IR (11%) : R$           \n",
    "- INSS (8%) : R$           \n",
    "- Sindicato (5%) : R$           \n",
    "= Salário Liquido : R$ \n",
    "\n",
    "Obs.: Salário Bruto - Descontos = Salário Líquido."
   ]
  },
  {
   "cell_type": "code",
   "execution_count": null,
   "metadata": {},
   "outputs": [],
   "source": [
    "valor_hora = float(input(\"Digite o valor recebido por hora \"))\n",
    "horas_trabalhadas = float(input(\"Digite a quantidade de horas trabalhadas \"))\n",
    "salario_bruto = valor_hora * horas_trabalhadas\n",
    "\n",
    "imposto_de_renda = salario_bruto * 0.11\n",
    "INSS = salario_bruto * 0.08\n",
    "sindicato = salario_bruto * 0.05\n",
    "descontos = imposto_de_renda + INSS + sindicato\n",
    "salario_liquido = salario_bruto - descontos\n",
    "\n",
    "print(\"Salário Bruto : R$ {}\".format(salario_bruto))\n",
    "print(\"Descontos : R$ {}\".format(descontos))\n",
    "print(\"IR (11%) : R$ {}\".format(imposto_de_renda))\n",
    "print(\"INSS (8%) : R$ {}\".format(INSS))\n",
    "print(\"Sindicato (5%) : R$ {}\".format(sindicato))\n",
    "print(\"Salário Liquido : R$ {}\".format(salario_liquido))"
   ]
  },
  {
   "cell_type": "markdown",
   "metadata": {},
   "source": [
    "9 Faça um programa que leia 2 strings e informe o conteúdo delas seguido do seu comprimento. Informe também se as duas strings possuem o mesmo comprimento e são iguais ou diferentes no conteúdo. Exemplo: String 1: Brasil Hexa 2018 String 2: Brasil! Hexa 2018! Tamanho de \"Brasil Hexa 2018\": 16 caracteres Tamanho de \"Brasil! Hexa 2018!\": 18 caracteres As duas strings são de tamanhos diferentes. As duas strings possuem conteúdo diferente.\n"
   ]
  },
  {
   "cell_type": "code",
   "execution_count": null,
   "metadata": {},
   "outputs": [],
   "source": [
    "string01 = input(\"Digite a sua primeira String \")\n",
    "string02 = input(\"Digite a sua segunda String \")\n",
    "\n",
    "s01 = len(string01)\n",
    "s02 = len(string02)\n",
    "\n",
    "print(\"A quantidade de caracteres na primeira string é {}\".format(s01))\n",
    "print(\"A quantidade de caracteres na segunda string é {}\".format(s02))\n",
    "\n",
    "if string01 == string02:\n",
    "    print(\"As duas strings possuem conteúdos iguais\")\n",
    "else:\n",
    "    print(\"As duas strings possuem conteúdos diferentes\")\n",
    "\n",
    "if s01 == s02:\n",
    "    print(\"As duas strings são de tamanhos iguas\")\n",
    "else:\n",
    "    print(\"As duas strings são de tamanhos diferentes\")"
   ]
  },
  {
   "cell_type": "markdown",
   "metadata": {},
   "source": [
    "10 Faça um programa que permita ao usuário digitar o seu nome e em seguida mostre o nome do usuário de trás para frente utilizando somente letras maiúsculas. Dica: lembre−se que ao informar que o usuário pode digitar letras maiúsculas ou minúsculas. Observação: não use loops.\n"
   ]
  },
  {
   "cell_type": "code",
   "execution_count": null,
   "metadata": {},
   "outputs": [],
   "source": [
    "nome = input(\"Digite seu nome (aceita letras maiúsculas e minúsculas)\")\n",
    "\n",
    "print(nome[::-1].upper())"
   ]
  },
  {
   "cell_type": "markdown",
   "metadata": {},
   "source": [
    "11 Faça um programa que solicite a data de nascimento (dd/mm/aaaa) do usuário e imprima a data com o nome do mês por extenso. Data de Nascimento: 29/10/1973 Você nasceu em  29 de Outubro de 1973. Obs.: Não use desvio condicional nem loops.\n"
   ]
  },
  {
   "cell_type": "code",
   "execution_count": 3,
   "metadata": {},
   "outputs": [
    {
     "name": "stdout",
     "output_type": "stream",
     "text": [
      "Digite sua data de nascimento: (dd/mm/aaaa)16/11/1994\n",
      "Você nasceu em quarta-feira 16 de novembro de 1994\n"
     ]
    }
   ],
   "source": [
    "import locale\n",
    "from datetime import date\n",
    "locale.setlocale(locale.LC_TIME, 'portuguese_brazil')\n",
    "\n",
    "datanasc = input(\"Digite sua data de nascimento: (dd/mm/aaaa)\").split(\"/\")\n",
    "data = date(day=int(datanasc[0]), month=int(datanasc[1]), year=int(datanasc[2]))\n",
    "\n",
    "str = data.strftime('%A %d de %B de %Y')\n",
    "\n",
    "print(\"Você nasceu em\", str)\n"
   ]
  },
  {
   "cell_type": "markdown",
   "metadata": {},
   "source": [
    "12 Leet é uma forma de se escrever o alfabeto latino usando outros símbolos em lugar das letras, como números por exemplo. A própria palavra leet admite muitas variações, como l33t ou 1337. O uso do leet reflete uma subcultura relacionada ao mundo dos jogos de computador e internet, sendo muito usada para confundir os iniciantes e afrmar-se como parte de um grupo. Pesquise sobre as principais formas de traduzir as letras. Depois, faça um programa que peça uma texto e transforme-o para a grafa leet speak. Desafo: não use loops nem desvios condicionais."
   ]
  },
  {
   "cell_type": "code",
   "execution_count": null,
   "metadata": {},
   "outputs": [],
   "source": [
    "texto = input(\"Digite o texto a ser transformado\")\n",
    "    \n",
    "translation = {\"a\": \"4\", \"A\": \"4\", \"B\": \"8\",\"b\": \"6\", \"C\": \"¢\", \"c\": \"¢\",\"e\": \"3\", \"E\": \"3\",\"h\": \"#\",\"H\": \"#\", \"i\": \"1\", \"I\": \"1\", \"K\": \"|<\", \"k\": \"|<\",\"L\": \"£\",\"l\": \"£\", \"M\": \"|\\/|\",\"N\": \"|\\|\",\"o\": \"0\", \"O\": \"0\", \"t\": \"7\", \"T\": \"7\", \"v\": \"\\/\",\"V\": \"\\/\",\"s\": '5', \"S\": '5', \"x\": \"><\",\"X\": \"}{\",\"z\" : \"2\", \"Z\" : \"2\"}\n",
    "\n",
    "texto = texto.translate(str.maketrans(translation))\n",
    "\n",
    "print(texto)"
   ]
  }
 ],
 "metadata": {
  "kernelspec": {
   "display_name": "Python 3",
   "language": "python",
   "name": "python3"
  },
  "language_info": {
   "codemirror_mode": {
    "name": "ipython",
    "version": 3
   },
   "file_extension": ".py",
   "mimetype": "text/x-python",
   "name": "python",
   "nbconvert_exporter": "python",
   "pygments_lexer": "ipython3",
   "version": "3.6.5"
  }
 },
 "nbformat": 4,
 "nbformat_minor": 2
}
